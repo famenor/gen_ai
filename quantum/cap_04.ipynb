{
 "cells": [
  {
   "cell_type": "code",
   "execution_count": 1,
   "id": "726d4ca3-4d07-498e-88b3-6905d30e36c3",
   "metadata": {},
   "outputs": [],
   "source": [
    "import pandas as pd\n",
    "import numpy as np\n",
    "import math\n",
    "\n",
    "import matplotlib.pyplot as plt"
   ]
  },
  {
   "cell_type": "markdown",
   "id": "da827366-850c-4f0f-9889-e556481ab472",
   "metadata": {},
   "source": [
    "# Sistema lineal de particulas"
   ]
  },
  {
   "cell_type": "code",
   "execution_count": 10,
   "id": "b9a3e8f3-aef8-4f6e-b41b-38b190cb5de0",
   "metadata": {},
   "outputs": [
    {
     "name": "stdout",
     "output_type": "stream",
     "text": [
      "Norma psi:  4.358898943540674 \n",
      "\n",
      "Probabilidades:  0.5263157894736842 0.21052631578947364 0.05263157894736841 0.21052631578947364 \n",
      "\n",
      "Normalizacion:  [-0.6882472 -0.22941573j -0.        -0.45883147j  0.        +0.22941573j\n",
      "  0.45883147+0.j        ] \n",
      "\n",
      "Norma psi:  0.9999999999999999 \n",
      "\n",
      "Probabilidades:  0.526315789473684 0.21052631578947364 0.05263157894736841 0.21052631578947364 \n",
      "\n"
     ]
    }
   ],
   "source": [
    "estado_actual = np.array([-3-1j, -2j, 1j, 2])\n",
    "norma_psi = np.linalg.norm(estado_actual)\n",
    "norma_x0 = np.linalg.norm(estado_actual[0])\n",
    "norma_x1 = np.linalg.norm(estado_actual[1])\n",
    "norma_x2 = np.linalg.norm(estado_actual[2])\n",
    "norma_x3 = np.linalg.norm(estado_actual[3])\n",
    "\n",
    "print('Norma psi: ', norma_psi, '\\n')\n",
    "print('Probabilidades: ',  norma_x0 ** 2 / norma_psi ** 2, norma_x1 ** 2 / norma_psi ** 2,\n",
    "      norma_x2 ** 2 / norma_psi ** 2, norma_x3 ** 2 / norma_psi ** 2,'\\n')\n",
    "\n",
    "estado_actual_normalizado = estado_actual / norma_psi\n",
    "print('Normalizacion: ', estado_actual_normalizado, '\\n')\n",
    "\n",
    "norma_psi_n = np.linalg.norm(estado_actual_normalizado)\n",
    "norma_x0_n = np.linalg.norm(estado_actual_normalizado[0])\n",
    "norma_x1_n = np.linalg.norm(estado_actual_normalizado[1])\n",
    "norma_x2_n = np.linalg.norm(estado_actual_normalizado[2])\n",
    "norma_x3_n = np.linalg.norm(estado_actual_normalizado[3])\n",
    "\n",
    "print('Norma psi: ', norma_psi_n, '\\n')\n",
    "print('Probabilidades: ',  norma_x0_n ** 2, norma_x1_n ** 2, norma_x2_n ** 2, norma_x3_n ** 2,'\\n')"
   ]
  },
  {
   "cell_type": "markdown",
   "id": "2bc2311c-3c62-4b30-a5fc-f66c02651518",
   "metadata": {},
   "source": [
    "# Spin"
   ]
  },
  {
   "cell_type": "code",
   "execution_count": 11,
   "id": "989f7439-f8cf-415c-8749-bb66f762d4da",
   "metadata": {},
   "outputs": [
    {
     "name": "stdout",
     "output_type": "stream",
     "text": [
      "Norma spin:  8.831760866327848 \n",
      "\n",
      "Probabilidades:  0.32051282051282043 0.6794871794871794 \n",
      "\n"
     ]
    }
   ],
   "source": [
    "estado_spin = np.array([-3 - 4j, 7 + 2j])\n",
    "norma_spin = np.linalg.norm(estado_spin)\n",
    "norma_up = np.linalg.norm(estado_spin[0])\n",
    "norma_down = np.linalg.norm(estado_spin[1])\n",
    "\n",
    "print('Norma spin: ', norma_spin, '\\n')\n",
    "print('Probabilidades: ',  norma_up ** 2 / norma_spin ** 2, norma_down ** 2 / norma_spin ** 2,'\\n')"
   ]
  },
  {
   "cell_type": "code",
   "execution_count": null,
   "id": "fa692a04-730c-4568-bfd1-1da8c0afce64",
   "metadata": {},
   "outputs": [],
   "source": []
  }
 ],
 "metadata": {
  "kernelspec": {
   "display_name": "Python 3 (ipykernel)",
   "language": "python",
   "name": "python3"
  },
  "language_info": {
   "codemirror_mode": {
    "name": "ipython",
    "version": 3
   },
   "file_extension": ".py",
   "mimetype": "text/x-python",
   "name": "python",
   "nbconvert_exporter": "python",
   "pygments_lexer": "ipython3",
   "version": "3.12.3"
  }
 },
 "nbformat": 4,
 "nbformat_minor": 5
}
