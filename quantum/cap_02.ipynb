{
 "cells": [
  {
   "cell_type": "code",
   "execution_count": 1,
   "id": "726d4ca3-4d07-498e-88b3-6905d30e36c3",
   "metadata": {},
   "outputs": [],
   "source": [
    "import pandas as pd\n",
    "import numpy as np\n",
    "import math\n",
    "\n",
    "import matplotlib.pyplot as plt"
   ]
  },
  {
   "cell_type": "code",
   "execution_count": 2,
   "id": "37a18ebd-ec26-4ce2-bb01-b8af1042ff96",
   "metadata": {},
   "outputs": [],
   "source": [
    "#CONVERT CARTESIAN TO POLAR\n",
    "def cart2pol(x, y):\n",
    "    rho = np.sqrt(x**2 + y**2)\n",
    "    phi = np.arctan2(y, x)\n",
    "    return(rho, phi)\n",
    "\n",
    "def pol2cart(rho, phi):\n",
    "    x = rho * np.cos(phi)\n",
    "    y = rho * np.sin(phi)\n",
    "    return(x, y)"
   ]
  },
  {
   "cell_type": "markdown",
   "id": "4a9bcb18-1184-4fe1-b881-c9f59f5379ec",
   "metadata": {},
   "source": [
    "# Operaciones Basicas con Vectores"
   ]
  },
  {
   "cell_type": "code",
   "execution_count": 18,
   "id": "8412c361-d445-422a-9f48-2e4c4b233ee7",
   "metadata": {},
   "outputs": [
    {
     "name": "stdout",
     "output_type": "stream",
     "text": [
      "Suma de vectores:  [14.+5.j  8.+0.j  3.+4.j  4.+3.j]\n",
      "Suma de vectores:  [14.+5.j  8.+0.j  3.+4.j  4.+3.j]\n",
      "Suma con vector cero:  [ 0.+6.j  8.+0.j -1.+2.j  4.+0.j] [ 0.+6.j  8.+0.j -1.+2.j  4.+0.j]\n",
      "\n",
      "Conmutatividad de la adición:\n",
      " [[ 5.+6.j  0.-4.j]\n",
      " [ 8.+1.j -8.+0.j]] \n",
      " [[ 5.+6.j  0.-4.j]\n",
      " [ 8.+1.j -8.+0.j]] \n",
      "\n",
      "Asociatividad de la adición:\n",
      " [[  6. +6.j  -3. -6.j]\n",
      " [  8.+11.j -12. -2.j]] \n",
      " [[  6. +6.j  -3. -6.j]\n",
      " [  8.+11.j -12. -2.j]] \n",
      "\n",
      "Identidad aditiva:\n",
      " [[ 5.+4.j  3.-2.j]\n",
      " [ 0.+1.j -4.+2.j]] \n",
      " [[ 5.+4.j  3.-2.j]\n",
      " [ 0.+1.j -4.+2.j]] \n",
      "\n",
      "Inverso aditivo:\n",
      " [[0.+0.j 0.+0.j]\n",
      " [0.+0.j 0.+0.j]] \n",
      "\n",
      "Identidad multiplicativa:\n",
      " [[ 5.+4.j  3.-2.j]\n",
      " [ 0.+1.j -4.+2.j]] \n",
      " [[ 5.+4.j  3.-2.j]\n",
      " [ 0.+1.j -4.+2.j]] \n",
      "\n",
      "Multiplicación escalar:\n",
      " [[ 268.+116.j  108.-124.j]\n",
      " [  12. +44.j -152.+136.j]] \n",
      " [[ 268.+116.j  108.-124.j]\n",
      " [  12. +44.j -152.+136.j]] \n",
      "\n",
      "Multiplicación escalar se distribuye sobre adicion:\n",
      " [[ 32.+14.j  -8.-16.j]\n",
      " [ 34.-12.j -32.+16.j]] \n",
      " [[ 32.+14.j  -8.-16.j]\n",
      " [ 34.-12.j -32.+16.j]] \n",
      "\n",
      "Multiplicación escalar se distribuye sobre adicion compleja:\n",
      " [[ 70.+56.j  42.-28.j]\n",
      " [  0.+14.j -56.+28.j]] \n",
      " [[ 70.+56.j  42.-28.j]\n",
      " [  0.+14.j -56.+28.j]] \n",
      "\n"
     ]
    }
   ],
   "source": [
    "V = np.array([6j, 8, -1+2j, 4])\n",
    "W = np.array([14-1J, 0, 4+2j, 3j])\n",
    "\n",
    "V_0 = np.array([0, 0, 0, 0])\n",
    "\n",
    "#OPERACIONES BASICAS\n",
    "print('Suma de vectores: ', V + W)\n",
    "print('Suma de vectores: ', W + V)\n",
    "print('Suma con vector cero: ', V, V + V_0)\n",
    "print('')\n",
    "\n",
    "#COMPROBAR ESPACIO VECTORIAL COMPLEJO\n",
    "V = np.array([[5 + 4j, 3 - 2j], [1j, -4 + 2j]])\n",
    "W = np.array([[0 + 2j, -3 - 2j], [8, -4 - 2j]])\n",
    "Y = np.array([[1, -3 - 2j], [10j, -4 - 2j]])\n",
    "Z_0 = np.array([[0, 0], [0, 0]])\n",
    "c1 = 4 - 2j\n",
    "c2 = 10 + 2j\n",
    "\n",
    "print('Conmutatividad de la adición:\\n', V + W, '\\n', W + V, '\\n')\n",
    "print('Asociatividad de la adición:\\n', (V + W) + Y, '\\n', V + (W + Y), '\\n')\n",
    "print('Identidad aditiva:\\n', V + Z_0, '\\n', V, '\\n')\n",
    "print('Inverso aditivo:\\n', V + -(V), '\\n')\n",
    "print('Identidad multiplicativa:\\n', V, '\\n', 1 * V, '\\n')\n",
    "print('Multiplicación escalar:\\n', c1 * (c2 * V), '\\n', (c1 * c2) * V, '\\n')\n",
    "print('Multiplicación escalar se distribuye sobre adicion:\\n', c1 * (V + W), '\\n', c1 * V + c1 * W, '\\n')\n",
    "print('Multiplicación escalar se distribuye sobre adicion compleja:\\n', (c1 + c2) * V, '\\n', c1 * V + c2 * V, '\\n')"
   ]
  },
  {
   "cell_type": "markdown",
   "id": "94564c0d-b9b4-493d-b290-219f673d7b19",
   "metadata": {},
   "source": [
    "# Operaciones con matrices cuadradas"
   ]
  },
  {
   "cell_type": "code",
   "execution_count": 28,
   "id": "9549b4bc-af2f-4666-9621-8772129469a9",
   "metadata": {},
   "outputs": [
    {
     "name": "stdout",
     "output_type": "stream",
     "text": [
      "(3, 3)\n",
      "Ejemplo: \n",
      " [[ 0.+4.j  8.-1.j  0.+6.j]\n",
      " [ 2.+0.j -4.+4.j 10.-6.j]\n",
      " [10.-1.j -2.-2.j  3.+0.j]] \n",
      "\n",
      "Transpuesta: \n",
      " [[ 0.+4.j  2.+0.j 10.-1.j]\n",
      " [ 8.-1.j -4.+4.j -2.-2.j]\n",
      " [ 0.+6.j 10.-6.j  3.+0.j]] \n",
      "\n",
      "Conjugada: \n",
      " [[ 0.-4.j  8.+1.j  0.-6.j]\n",
      " [ 2.-0.j -4.-4.j 10.+6.j]\n",
      " [10.+1.j -2.+2.j  3.-0.j]] \n",
      "\n",
      "Adjunta: \n",
      " [[ 0.-4.j  2.-0.j 10.+1.j]\n",
      " [ 8.+1.j -4.-4.j -2.+2.j]\n",
      " [ 0.-6.j 10.+6.j  3.-0.j]] \n",
      "\n",
      " [[ 0.-4.j  2.-0.j 10.+1.j]\n",
      " [ 8.+1.j -4.-4.j -2.+2.j]\n",
      " [ 0.-6.j 10.+6.j  3.-0.j]] \n",
      "\n",
      " [[ 0.-4.j  2.-0.j 10.+1.j]\n",
      " [ 8.+1.j -4.-4.j -2.+2.j]\n",
      " [ 0.-6.j 10.+6.j  3.-0.j]] \n",
      "\n"
     ]
    }
   ],
   "source": [
    "Q = np.array([[4j, 8 - 1j, 6j], [2, -4 + 4j, 10 - 6j], [10 - 1j, -2 - 2j, 3]])\n",
    "print(Q.shape)\n",
    "print('Ejemplo: \\n', Q, '\\n')\n",
    "print('Transpuesta: \\n', Q.T, '\\n')\n",
    "print('Conjugada: \\n', Q.conjugate(), '\\n')\n",
    "print('Adjunta: \\n', np.matrix(Q).getH(), '\\n\\n', Q.T.conjugate(), '\\n\\n', Q.conjugate().T, '\\n')"
   ]
  },
  {
   "cell_type": "markdown",
   "id": "3dec3c85-617a-4ce7-8576-4d1020be0cbc",
   "metadata": {},
   "source": [
    "# Multiplicacion de matrices"
   ]
  },
  {
   "cell_type": "code",
   "execution_count": 36,
   "id": "2f77d9e0-b4ab-4cd9-a042-83251823b6ee",
   "metadata": {},
   "outputs": [
    {
     "name": "stdout",
     "output_type": "stream",
     "text": [
      "Multiplicacion no conmutativa: \n",
      " [[ 14.+58.j -20.+56.j  70.-72.j]\n",
      " [ 86.-58.j -16.-38.j  30.+62.j]\n",
      " [ 28.+13.j  91. -4.j -31. +0.j]] \n",
      " [[  8. +2.j -34.+44.j  74.-38.j]\n",
      " [ 82.-94.j -24.-34.j  14.+46.j]\n",
      " [ 30.+33.j  89.-24.j -17.+52.j]] \n",
      "\n",
      "Multiplicacion con transpuestas: \n",
      " [[ 14.+58.j  86.-58.j  28.+13.j]\n",
      " [-20.+56.j -16.-38.j  91. -4.j]\n",
      " [ 70.-72.j  30.+62.j -31. +0.j]] \n",
      " [[ 14.+58.j  86.-58.j  28.+13.j]\n",
      " [-20.+56.j -16.-38.j  91. -4.j]\n",
      " [ 70.-72.j  30.+62.j -31. +0.j]] \n",
      "\n",
      "Multiplicacion con adjuntas: \n",
      " [[ 14.-58.j  86.+58.j  28.-13.j]\n",
      " [-20.-56.j -16.+38.j  91. +4.j]\n",
      " [ 70.+72.j  30.-62.j -31. -0.j]] \n",
      " [[ 14.-58.j  86.+58.j  28.-13.j]\n",
      " [-20.-56.j -16.+38.j  91. +4.j]\n",
      " [ 70.+72.j  30.-62.j -31. +0.j]] \n",
      "\n"
     ]
    }
   ],
   "source": [
    "Q = np.array([[4j, 8 - 1j, 6j], [2, -4 + 4j, 10 - 6j], [10 - 1j, -2 - 2j, 3]])\n",
    "R = np.array([[2j, 8 + 1j, 0], [2, -4 + 4j, 10 - 10j], [10 - 1j, -2 - 2j, 3]])\n",
    "\n",
    "print('Multiplicacion no conmutativa: \\n', np.matmul(Q, R), '\\n', np.matmul(R, Q), '\\n')\n",
    "print('Multiplicacion con transpuestas: \\n', np.matmul(Q, R).T, '\\n', np.matmul(R.T, Q.T), '\\n')\n",
    "print('Multiplicacion con adjuntas: \\n', np.matrix(np.matmul(Q, R)).getH(), '\\n', np.matmul(np.matrix(R).getH(), np.matrix(Q).getH()), '\\n')\n",
    "#print('Conjugada: \\n', Q.conjugate(), '\\n')\n",
    "#print('Adjunta: \\n', np.matrix(Q).getH(), '\\n\\n', Q.T.conjugate(), '\\n\\n', Q.conjugate().T, '\\n')"
   ]
  },
  {
   "cell_type": "markdown",
   "id": "a4bd96dd-952b-474f-a03e-fc94a809c1c8",
   "metadata": {},
   "source": [
    "# Isomorfismo entre complejos y reales"
   ]
  },
  {
   "cell_type": "code",
   "execution_count": 48,
   "id": "e2c1e033-7826-4628-99b3-97003f205f03",
   "metadata": {},
   "outputs": [
    {
     "name": "stdout",
     "output_type": "stream",
     "text": [
      "Sumar elemento: \n",
      " (3+2j) \n",
      " [[ 3  2]\n",
      " [-2  3]] \n",
      "\n",
      "Elevar al cuadrado: \n",
      " (-9-40j) \n",
      " [[ -9 -40]\n",
      " [ 40  -9]] \n",
      "\n",
      "Suma de dos elementos: \n",
      " (6-4j) \n",
      " [[ 6 -4]\n",
      " [ 4  6]] \n",
      "\n",
      "Multiplicacion por escalar real: \n",
      " (70-20j) \n",
      " [[ 70 -20]\n",
      " [ 20  70]] \n",
      "\n",
      "Multiplicacion de dos elementos: \n",
      " (-11-12j) \n",
      " [[-11 -12]\n",
      " [ 12 -11]] \n",
      "\n"
     ]
    }
   ],
   "source": [
    "r1 = 4 \n",
    "r2 = -5\n",
    "mat_r = np.array([[r1, r2], [-r2, r1]])\n",
    "c = 4 - 5j \n",
    "\n",
    "s_r = np.array([[-1, 7], [-7, -1]])\n",
    "\n",
    "print('Sumar elemento: \\n', c + (-1 + 7j), '\\n', mat_r + s_r, '\\n')\n",
    "print('Elevar al cuadrado: \\n', c ** 2, '\\n', np.matmul(mat_r, mat_r), '\\n')\n",
    "\n",
    "#ADICION EN FUNCION LINEAL\n",
    "elemento_a = 7\n",
    "elemento_b = -2\n",
    "\n",
    "elemento_c = -1\n",
    "elemento_d = -2\n",
    "\n",
    "mat_r1 = np.array([[elemento_a, elemento_b], [-1 * elemento_b, elemento_a]])\n",
    "mat_r2 = np.array([[elemento_c, elemento_d], [-1 * elemento_d, elemento_c]])\n",
    "\n",
    "c1 = elemento_a + 1j * elemento_b \n",
    "c2 = elemento_c + 1j * elemento_d \n",
    "\n",
    "escalar = 10\n",
    "\n",
    "print('Suma de dos elementos: \\n', c1 + c2, '\\n', mat_r1 + mat_r2,  '\\n')\n",
    "print('Multiplicacion por escalar real: \\n', c1 * escalar, '\\n', escalar * mat_r1,  '\\n')\n",
    "print('Multiplicacion de dos elementos: \\n', c1 * c2, '\\n', np.matmul(mat_r1, mat_r2),  '\\n')"
   ]
  },
  {
   "cell_type": "markdown",
   "id": "4f88da6b-0091-4d74-8a78-75005841ef62",
   "metadata": {},
   "source": [
    "# Hadamard Matrix"
   ]
  },
  {
   "cell_type": "code",
   "execution_count": 53,
   "id": "95f0dd6a-cf86-440e-af89-1ebd642297bb",
   "metadata": {},
   "outputs": [
    {
     "name": "stdout",
     "output_type": "stream",
     "text": [
      "Hadamard matrix: \n",
      " [[ 0.70710678  0.70710678]\n",
      " [ 0.70710678 -0.70710678]] \n",
      "\n",
      "Hadamard matrix ** 2: \n",
      " [[ 1.00000000e+00 -2.23711432e-17]\n",
      " [-2.23711432e-17  1.00000000e+00]] \n",
      "\n",
      "Hadamard matrix ** 3: \n",
      " [[ 0.70710678  0.70710678]\n",
      " [ 0.70710678 -0.70710678]] \n",
      "\n"
     ]
    }
   ],
   "source": [
    "H = np.array([[1 / 2**0.5, 1 / 2**0.5], [1 / 2**0.5, -1 / 2**0.5]])\n",
    "\n",
    "print('Hadamard matrix: \\n', H, '\\n')\n",
    "print('Hadamard matrix ** 2: \\n', H @ H, '\\n')\n",
    "print('Hadamard matrix ** 3: \\n', H @ H @ H, '\\n')"
   ]
  },
  {
   "cell_type": "markdown",
   "id": "c13b8a16-d7ae-4325-8001-3ef0ab333533",
   "metadata": {},
   "source": [
    "# Espacio vectorial con Producto Interno"
   ]
  },
  {
   "cell_type": "code",
   "execution_count": 67,
   "id": "3113bfa1-4097-46c8-a647-3cfee8171f6f",
   "metadata": {},
   "outputs": [
    {
     "name": "stdout",
     "output_type": "stream",
     "text": [
      "Producto interno no degenerativo: \n",
      " (157+0j) \n",
      "\n",
      "Sesgo simetrico: \n",
      " (42+19j) \n",
      " (42+19j) \n",
      "\n",
      "Producto interno con definicion: \n",
      " (42+19j) \n",
      "\n",
      "Norma o longitud: \n",
      " 12.529964086141668 \n",
      " 157.0 \n",
      "\n",
      "Distancia: \n",
      " 12.529964086141668 6.557438524302 10.770329614269007 10.770329614269007 \n",
      "\n"
     ]
    }
   ],
   "source": [
    "A = np.array([[1j, 4 - 2j], [6, 10j]])\n",
    "B = np.array([[-3 + 2j, 5], [1j, 2j]])\n",
    "\n",
    "print('Producto interno no degenerativo: \\n', np.vdot(A, A), '\\n')\n",
    "print('Sesgo simetrico: \\n', np.vdot(A, B), '\\n', np.vdot(B, A).conjugate(), '\\n')\n",
    "print('Producto interno con definicion: \\n', np.trace(np.matrix(A).getH() @ B), '\\n')\n",
    "print('Norma o longitud: \\n', np.linalg.norm(A), '\\n', np.linalg.norm(A) ** 2, '\\n')\n",
    "print('Distancia: \\n', np.linalg.norm(A), np.linalg.norm(B), np.linalg.norm(A - B), np.linalg.norm(B - A), '\\n')\n"
   ]
  },
  {
   "cell_type": "code",
   "execution_count": null,
   "id": "0472701e-7bcd-4b07-9513-69eef0044a2f",
   "metadata": {},
   "outputs": [],
   "source": []
  }
 ],
 "metadata": {
  "kernelspec": {
   "display_name": "Python 3 (ipykernel)",
   "language": "python",
   "name": "python3"
  },
  "language_info": {
   "codemirror_mode": {
    "name": "ipython",
    "version": 3
   },
   "file_extension": ".py",
   "mimetype": "text/x-python",
   "name": "python",
   "nbconvert_exporter": "python",
   "pygments_lexer": "ipython3",
   "version": "3.12.3"
  }
 },
 "nbformat": 4,
 "nbformat_minor": 5
}
