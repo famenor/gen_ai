{
 "cells": [
  {
   "cell_type": "code",
   "execution_count": 1,
   "id": "726d4ca3-4d07-498e-88b3-6905d30e36c3",
   "metadata": {},
   "outputs": [],
   "source": [
    "import pandas as pd\n",
    "import numpy as np\n",
    "import math\n",
    "\n",
    "import matplotlib.pyplot as plt"
   ]
  },
  {
   "cell_type": "code",
   "execution_count": 2,
   "id": "37a18ebd-ec26-4ce2-bb01-b8af1042ff96",
   "metadata": {},
   "outputs": [],
   "source": [
    "#CONVERT CARTESIAN TO POLAR\n",
    "def cart2pol(x, y):\n",
    "    rho = np.sqrt(x**2 + y**2)\n",
    "    phi = np.arctan2(y, x)\n",
    "    return(rho, phi)\n",
    "\n",
    "def pol2cart(rho, phi):\n",
    "    x = rho * np.cos(phi)\n",
    "    y = rho * np.sin(phi)\n",
    "    return(x, y)"
   ]
  },
  {
   "cell_type": "markdown",
   "id": "4a9bcb18-1184-4fe1-b881-c9f59f5379ec",
   "metadata": {},
   "source": [
    "# Operaciones Basicas con Vectores"
   ]
  },
  {
   "cell_type": "code",
   "execution_count": 18,
   "id": "8412c361-d445-422a-9f48-2e4c4b233ee7",
   "metadata": {},
   "outputs": [
    {
     "name": "stdout",
     "output_type": "stream",
     "text": [
      "Suma de vectores:  [14.+5.j  8.+0.j  3.+4.j  4.+3.j]\n",
      "Suma de vectores:  [14.+5.j  8.+0.j  3.+4.j  4.+3.j]\n",
      "Suma con vector cero:  [ 0.+6.j  8.+0.j -1.+2.j  4.+0.j] [ 0.+6.j  8.+0.j -1.+2.j  4.+0.j]\n",
      "\n",
      "Conmutatividad de la adición:\n",
      " [[ 5.+6.j  0.-4.j]\n",
      " [ 8.+1.j -8.+0.j]] \n",
      " [[ 5.+6.j  0.-4.j]\n",
      " [ 8.+1.j -8.+0.j]] \n",
      "\n",
      "Asociatividad de la adición:\n",
      " [[  6. +6.j  -3. -6.j]\n",
      " [  8.+11.j -12. -2.j]] \n",
      " [[  6. +6.j  -3. -6.j]\n",
      " [  8.+11.j -12. -2.j]] \n",
      "\n",
      "Identidad aditiva:\n",
      " [[ 5.+4.j  3.-2.j]\n",
      " [ 0.+1.j -4.+2.j]] \n",
      " [[ 5.+4.j  3.-2.j]\n",
      " [ 0.+1.j -4.+2.j]] \n",
      "\n",
      "Inverso aditivo:\n",
      " [[0.+0.j 0.+0.j]\n",
      " [0.+0.j 0.+0.j]] \n",
      "\n",
      "Identidad multiplicativa:\n",
      " [[ 5.+4.j  3.-2.j]\n",
      " [ 0.+1.j -4.+2.j]] \n",
      " [[ 5.+4.j  3.-2.j]\n",
      " [ 0.+1.j -4.+2.j]] \n",
      "\n",
      "Multiplicación escalar:\n",
      " [[ 268.+116.j  108.-124.j]\n",
      " [  12. +44.j -152.+136.j]] \n",
      " [[ 268.+116.j  108.-124.j]\n",
      " [  12. +44.j -152.+136.j]] \n",
      "\n",
      "Multiplicación escalar se distribuye sobre adicion:\n",
      " [[ 32.+14.j  -8.-16.j]\n",
      " [ 34.-12.j -32.+16.j]] \n",
      " [[ 32.+14.j  -8.-16.j]\n",
      " [ 34.-12.j -32.+16.j]] \n",
      "\n",
      "Multiplicación escalar se distribuye sobre adicion compleja:\n",
      " [[ 70.+56.j  42.-28.j]\n",
      " [  0.+14.j -56.+28.j]] \n",
      " [[ 70.+56.j  42.-28.j]\n",
      " [  0.+14.j -56.+28.j]] \n",
      "\n"
     ]
    }
   ],
   "source": [
    "V = np.array([6j, 8, -1+2j, 4])\n",
    "W = np.array([14-1J, 0, 4+2j, 3j])\n",
    "\n",
    "V_0 = np.array([0, 0, 0, 0])\n",
    "\n",
    "#OPERACIONES BASICAS\n",
    "print('Suma de vectores: ', V + W)\n",
    "print('Suma de vectores: ', W + V)\n",
    "print('Suma con vector cero: ', V, V + V_0)\n",
    "print('')\n",
    "\n",
    "#COMPROBAR ESPACIO VECTORIAL COMPLEJO\n",
    "V = np.array([[5 + 4j, 3 - 2j], [1j, -4 + 2j]])\n",
    "W = np.array([[0 + 2j, -3 - 2j], [8, -4 - 2j]])\n",
    "Y = np.array([[1, -3 - 2j], [10j, -4 - 2j]])\n",
    "Z_0 = np.array([[0, 0], [0, 0]])\n",
    "c1 = 4 - 2j\n",
    "c2 = 10 + 2j\n",
    "\n",
    "print('Conmutatividad de la adición:\\n', V + W, '\\n', W + V, '\\n')\n",
    "print('Asociatividad de la adición:\\n', (V + W) + Y, '\\n', V + (W + Y), '\\n')\n",
    "print('Identidad aditiva:\\n', V + Z_0, '\\n', V, '\\n')\n",
    "print('Inverso aditivo:\\n', V + -(V), '\\n')\n",
    "print('Identidad multiplicativa:\\n', V, '\\n', 1 * V, '\\n')\n",
    "print('Multiplicación escalar:\\n', c1 * (c2 * V), '\\n', (c1 * c2) * V, '\\n')\n",
    "print('Multiplicación escalar se distribuye sobre adicion:\\n', c1 * (V + W), '\\n', c1 * V + c1 * W, '\\n')\n",
    "print('Multiplicación escalar se distribuye sobre adicion compleja:\\n', (c1 + c2) * V, '\\n', c1 * V + c2 * V, '\\n')"
   ]
  },
  {
   "cell_type": "markdown",
   "id": "94564c0d-b9b4-493d-b290-219f673d7b19",
   "metadata": {},
   "source": [
    "# Operaciones con matrices cuadradas"
   ]
  },
  {
   "cell_type": "code",
   "execution_count": 28,
   "id": "9549b4bc-af2f-4666-9621-8772129469a9",
   "metadata": {},
   "outputs": [
    {
     "name": "stdout",
     "output_type": "stream",
     "text": [
      "(3, 3)\n",
      "Ejemplo: \n",
      " [[ 0.+4.j  8.-1.j  0.+6.j]\n",
      " [ 2.+0.j -4.+4.j 10.-6.j]\n",
      " [10.-1.j -2.-2.j  3.+0.j]] \n",
      "\n",
      "Transpuesta: \n",
      " [[ 0.+4.j  2.+0.j 10.-1.j]\n",
      " [ 8.-1.j -4.+4.j -2.-2.j]\n",
      " [ 0.+6.j 10.-6.j  3.+0.j]] \n",
      "\n",
      "Conjugada: \n",
      " [[ 0.-4.j  8.+1.j  0.-6.j]\n",
      " [ 2.-0.j -4.-4.j 10.+6.j]\n",
      " [10.+1.j -2.+2.j  3.-0.j]] \n",
      "\n",
      "Adjunta: \n",
      " [[ 0.-4.j  2.-0.j 10.+1.j]\n",
      " [ 8.+1.j -4.-4.j -2.+2.j]\n",
      " [ 0.-6.j 10.+6.j  3.-0.j]] \n",
      "\n",
      " [[ 0.-4.j  2.-0.j 10.+1.j]\n",
      " [ 8.+1.j -4.-4.j -2.+2.j]\n",
      " [ 0.-6.j 10.+6.j  3.-0.j]] \n",
      "\n",
      " [[ 0.-4.j  2.-0.j 10.+1.j]\n",
      " [ 8.+1.j -4.-4.j -2.+2.j]\n",
      " [ 0.-6.j 10.+6.j  3.-0.j]] \n",
      "\n"
     ]
    }
   ],
   "source": [
    "Q = np.array([[4j, 8 - 1j, 6j], [2, -4 + 4j, 10 - 6j], [10 - 1j, -2 - 2j, 3]])\n",
    "print(Q.shape)\n",
    "print('Ejemplo: \\n', Q, '\\n')\n",
    "print('Transpuesta: \\n', Q.T, '\\n')\n",
    "print('Conjugada: \\n', Q.conjugate(), '\\n')\n",
    "print('Adjunta: \\n', np.matrix(Q).getH(), '\\n\\n', Q.T.conjugate(), '\\n\\n', Q.conjugate().T, '\\n')"
   ]
  },
  {
   "cell_type": "code",
   "execution_count": null,
   "id": "9f70182e-f455-4824-98c6-79fa40fbf0f7",
   "metadata": {},
   "outputs": [],
   "source": []
  }
 ],
 "metadata": {
  "kernelspec": {
   "display_name": "Python 3 (ipykernel)",
   "language": "python",
   "name": "python3"
  },
  "language_info": {
   "codemirror_mode": {
    "name": "ipython",
    "version": 3
   },
   "file_extension": ".py",
   "mimetype": "text/x-python",
   "name": "python",
   "nbconvert_exporter": "python",
   "pygments_lexer": "ipython3",
   "version": "3.12.3"
  }
 },
 "nbformat": 4,
 "nbformat_minor": 5
}
