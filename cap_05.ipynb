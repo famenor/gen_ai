{
 "cells": [
  {
   "cell_type": "code",
   "execution_count": 1,
   "id": "6582cb35-b8e3-4dd4-a90f-8e2bfe0d679d",
   "metadata": {},
   "outputs": [],
   "source": [
    "import os\n",
    "import json\n",
    "from openai import OpenAI"
   ]
  },
  {
   "cell_type": "code",
   "execution_count": 2,
   "id": "7ae9bbb0-ef44-4aa8-af73-0dc966e1c195",
   "metadata": {},
   "outputs": [],
   "source": [
    "os.environ['OPENAI_API_KEY'] = ''"
   ]
  },
  {
   "cell_type": "code",
   "execution_count": 2,
   "id": "b6935c99",
   "metadata": {},
   "outputs": [
    {
     "name": "stdout",
     "output_type": "stream",
     "text": [
      "9\n"
     ]
    }
   ],
   "source": [
    "def sum_two_numbers(a, b):\n",
    "    return a + b\n",
    "\n",
    "result = sum_two_numbers(3, 6)\n",
    "print(result)"
   ]
  },
  {
   "cell_type": "markdown",
   "id": "9ffb0929",
   "metadata": {},
   "source": [
    "# Prueba para testing y refactorizacion"
   ]
  },
  {
   "cell_type": "code",
   "execution_count": 12,
   "id": "aacb03b1",
   "metadata": {},
   "outputs": [
    {
     "name": "stdout",
     "output_type": "stream",
     "text": [
      "140\n"
     ]
    }
   ],
   "source": [
    "def multiply(a, b):\n",
    "    \n",
    "    \"\"\"\n",
    "    Multiply two integers using repeated addition.\n",
    "\n",
    "    Args:\n",
    "        a (int): The first integer to be multiplied.\n",
    "        b (int): The second integer to be multiplied.\n",
    "\n",
    "    Returns:\n",
    "        int: The product of the two integers.\n",
    "    \"\"\"\n",
    "\n",
    "    result = 0\n",
    "    for i in range(0, b):\n",
    "        result += a\n",
    "\n",
    "    return result\n",
    "\n",
    "result = multiply(7, 20)\n",
    "print(result)"
   ]
  },
  {
   "cell_type": "code",
   "execution_count": 13,
   "id": "87177dc9-4cf9-4fde-9911-76d8216bbc14",
   "metadata": {},
   "outputs": [],
   "source": [
    "test_result = multiply(7, 20)\n",
    "assert test_result == 140, f\"Expected 140 but got {test_result}\""
   ]
  },
  {
   "cell_type": "code",
   "execution_count": null,
   "id": "055c1b4a",
   "metadata": {},
   "outputs": [
    {
     "ename": "AssertionError",
     "evalue": "Expected -14 but got 0",
     "output_type": "error",
     "traceback": [
      "\u001b[0;31m---------------------------------------------------------------------------\u001b[0m",
      "\u001b[0;31mAssertionError\u001b[0m                            Traceback (most recent call last)",
      "Cell \u001b[0;32mIn[14], line 12\u001b[0m\n\u001b[1;32m      9\u001b[0m \u001b[38;5;28;01massert\u001b[39;00m test_result \u001b[38;5;241m==\u001b[39m \u001b[38;5;241m-\u001b[39m\u001b[38;5;241m24\u001b[39m, \u001b[38;5;124mf\u001b[39m\u001b[38;5;124m\"\u001b[39m\u001b[38;5;124mExpected -24 but got \u001b[39m\u001b[38;5;132;01m{\u001b[39;00mtest_result\u001b[38;5;132;01m}\u001b[39;00m\u001b[38;5;124m\"\u001b[39m\n\u001b[1;32m     11\u001b[0m test_result \u001b[38;5;241m=\u001b[39m multiply(\u001b[38;5;241m7\u001b[39m, \u001b[38;5;241m-\u001b[39m\u001b[38;5;241m2\u001b[39m)\n\u001b[0;32m---> 12\u001b[0m \u001b[38;5;28;01massert\u001b[39;00m test_result \u001b[38;5;241m==\u001b[39m \u001b[38;5;241m-\u001b[39m\u001b[38;5;241m14\u001b[39m, \u001b[38;5;124mf\u001b[39m\u001b[38;5;124m\"\u001b[39m\u001b[38;5;124mExpected -14 but got \u001b[39m\u001b[38;5;132;01m{\u001b[39;00mtest_result\u001b[38;5;132;01m}\u001b[39;00m\u001b[38;5;124m\"\u001b[39m\n\u001b[1;32m     14\u001b[0m \u001b[38;5;28mprint\u001b[39m(\u001b[38;5;124m\"\u001b[39m\u001b[38;5;124mAll tests passed!\u001b[39m\u001b[38;5;124m\"\u001b[39m)\n",
      "\u001b[0;31mAssertionError\u001b[0m: Expected -14 but got 0"
     ]
    }
   ],
   "source": [
    "# Prueba de la función multiply\n",
    "test_result = multiply(5, 3)\n",
    "assert test_result == 15, f\"Expected 15 but got {test_result}\"\n",
    "\n",
    "test_result = multiply(0, 10)\n",
    "assert test_result == 0, f\"Expected 0 but got {test_result}\"\n",
    "\n",
    "test_result = multiply(-4, 6)\n",
    "assert test_result == -24, f\"Expected -24 but got {test_result}\"\n",
    "\n",
    "test_result = multiply(7, -2)\n",
    "assert test_result == -14, f\"Expected -14 but got {test_result}\"\n",
    "\n",
    "print(\"All tests passed!\")"
   ]
  },
  {
   "cell_type": "code",
   "execution_count": 4,
   "id": "31b85004-b1db-4933-87da-2765f94b4ea8",
   "metadata": {},
   "outputs": [
    {
     "name": "stdout",
     "output_type": "stream",
     "text": [
      "gpt-4o-mini-audio-preview-2024-12-17 model system\n",
      "omni-moderation-2024-09-26 model system\n",
      "dall-e-3 model system\n",
      "dall-e-2 model system\n",
      "gpt-4o-audio-preview-2024-10-01 model system\n",
      "gpt-4o-audio-preview model system\n",
      "o1-mini-2024-09-12 model system\n",
      "gpt-4o-mini-realtime-preview-2024-12-17 model system\n",
      "o1-preview-2024-09-12 model system\n",
      "o1-mini model system\n",
      "o1-preview model system\n",
      "gpt-4o-mini-realtime-preview model system\n",
      "whisper-1 model openai-internal\n",
      "gpt-4-turbo model system\n",
      "gpt-4o-mini-audio-preview model system\n",
      "gpt-4o-2024-08-06 model system\n",
      "gpt-4o model system\n",
      "gpt-4o-realtime-preview-2024-10-01 model system\n",
      "gpt-4 model openai\n",
      "babbage-002 model system\n",
      "tts-1-hd-1106 model system\n",
      "gpt-4o-audio-preview-2024-12-17 model system\n",
      "tts-1-hd model system\n",
      "gpt-4o-2024-11-20 model system\n",
      "tts-1 model openai-internal\n",
      "tts-1-1106 model system\n",
      "gpt-4-turbo-2024-04-09 model system\n",
      "davinci-002 model system\n",
      "gpt-3.5-turbo-1106 model system\n",
      "gpt-4-turbo-preview model system\n",
      "gpt-4-0125-preview model system\n",
      "gpt-3.5-turbo-instruct model system\n",
      "chatgpt-4o-latest model system\n",
      "gpt-3.5-turbo-instruct-0914 model system\n",
      "gpt-3.5-turbo-0125 model system\n",
      "gpt-4o-realtime-preview-2024-12-17 model system\n",
      "gpt-3.5-turbo model openai\n",
      "gpt-4o-realtime-preview model system\n",
      "gpt-3.5-turbo-16k model openai-internal\n",
      "gpt-4o-mini-2024-07-18 model system\n",
      "text-embedding-3-small model system\n",
      "gpt-4o-mini model system\n",
      "text-embedding-ada-002 model openai-internal\n",
      "gpt-4-1106-preview model system\n",
      "text-embedding-3-large model system\n",
      "gpt-4-0613 model openai\n",
      "gpt-4o-2024-05-13 model system\n",
      "omni-moderation-latest model system\n"
     ]
    }
   ],
   "source": [
    "#LIST MODELS\n",
    "models = client.models.list()\n",
    "for model in models:\n",
    "    print(model.id, model.object, model.owned_by)"
   ]
  },
  {
   "cell_type": "markdown",
   "id": "3f7e3913-6953-4533-9ff5-4ab2a91ace19",
   "metadata": {},
   "source": [
    "# Imagenes"
   ]
  },
  {
   "cell_type": "code",
   "execution_count": null,
   "id": "1eff53a6-5991-4f6f-b319-d9c89a1b0600",
   "metadata": {},
   "outputs": [],
   "source": []
  }
 ],
 "metadata": {
  "kernelspec": {
   "display_name": "Python 3 (ipykernel)",
   "language": "python",
   "name": "python3"
  },
  "language_info": {
   "codemirror_mode": {
    "name": "ipython",
    "version": 3
   },
   "file_extension": ".py",
   "mimetype": "text/x-python",
   "name": "python",
   "nbconvert_exporter": "python",
   "pygments_lexer": "ipython3",
   "version": "3.12.3"
  }
 },
 "nbformat": 4,
 "nbformat_minor": 5
}
