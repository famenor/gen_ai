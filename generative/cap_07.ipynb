{
 "cells": [
  {
   "cell_type": "code",
   "execution_count": 1,
   "id": "6582cb35-b8e3-4dd4-a90f-8e2bfe0d679d",
   "metadata": {},
   "outputs": [],
   "source": [
    "import os\n",
    "import json\n",
    "import re\n",
    "import nltk\n",
    "import spacy\n",
    "import PyPDF2\n",
    "import pandas as pd\n",
    "\n",
    "from openai import OpenAI"
   ]
  },
  {
   "cell_type": "code",
   "execution_count": 33,
   "id": "7ae9bbb0-ef44-4aa8-af73-0dc966e1c195",
   "metadata": {},
   "outputs": [],
   "source": [
    "os.environ['OPENAI_API_KEY'] = ''"
   ]
  },
  {
   "cell_type": "code",
   "execution_count": 19,
   "id": "00f0ccd3-570c-44df-8904-52ec8406624b",
   "metadata": {},
   "outputs": [],
   "source": [
    "client = OpenAI()"
   ]
  },
  {
   "cell_type": "code",
   "execution_count": 3,
   "id": "32c67baf",
   "metadata": {},
   "outputs": [],
   "source": [
    "# function that extracts text from a PDF\n",
    "def extract_text_from_pdf(pdf_path):\n",
    "    with open(pdf_path, 'rb') as file:\n",
    "        reader = PyPDF2.PdfReader(file)\n",
    "        print(\"Number of PDF pages:\", len(reader.pages))\n",
    "        text = \"\"\n",
    "        for  page in reader.pages:\n",
    "            page_text = page.extract_text()\n",
    "            text += page_text\n",
    "            #print(page_text)\n",
    "    return text"
   ]
  },
  {
   "cell_type": "code",
   "execution_count": 17,
   "id": "18924c83-9807-4bde-bd59-be43400dcb54",
   "metadata": {},
   "outputs": [],
   "source": [
    "# Vectorize the query using OpenAI's text-embedding-ada-002 model\n",
    "def get_embedding(text):\n",
    "    # vectorize with OpenAI text-emebdding-ada-002\n",
    "    embedding = client.embeddings.create(\n",
    "        input=text,\n",
    "        model=\"text-embedding-ada-002\")\n",
    "\n",
    "    vector = embedding.data[0].embedding\n",
    "    \n",
    "    return vector"
   ]
  },
  {
   "cell_type": "markdown",
   "id": "9ffb0929",
   "metadata": {},
   "source": [
    "# Chunking"
   ]
  },
  {
   "cell_type": "code",
   "execution_count": 4,
   "id": "dcbb9640-e293-40ab-aec0-2a781de261f8",
   "metadata": {},
   "outputs": [],
   "source": [
    "def split_sentences(text):\n",
    "    \n",
    "    sentences = re.split('[.|?]', text)\n",
    "    sentences = [sentence.strip() for sentence in sentences if sentence.split()]\n",
    "\n",
    "    return sentences\n",
    "\n",
    "def split_sentences_by_nltk(text):\n",
    "\n",
    "    chunks = []\n",
    "    for sentence in nltk.sent_tokenize(text):\n",
    "        chunks.append(sentence)\n",
    "    \n",
    "    return chunks\n",
    "\n",
    "def split_sentences_by_spacy(text, max_tokens, overlap=0, model='en_core_web_sm'):\n",
    "\n",
    "    nlp = spacy.load(model)\n",
    "    doc = nlp(text)\n",
    "    sentences = [sent.text for sent in doc.sents]\n",
    "\n",
    "    return sentences\n",
    "\n",
    "    tokens_lengths = [count_tokens(sent) for sent in sentences]\n",
    "\n",
    "    chunks = []\n",
    "    start_idx = 0\n",
    "\n",
    "    while start_idx < len(sentences):\n",
    "\n",
    "        current_chunk = []\n",
    "        current_token_count = 0\n",
    "        for idx in range(start_idx, len(sentences)):\n",
    "            if current_token_count + tokens_lengths[idx] > max_tokens:\n",
    "                break\n",
    "\n",
    "            current_chunk.append(sentences[idx])\n",
    "            current_token_count += tokens_lengths[idx]\n",
    "\n",
    "        chunks.append(' '.join(current_chunk))\n",
    "\n",
    "        if overlap >= len(current_chunk):\n",
    "            start_idx += 1\n",
    "        else:\n",
    "            start_idx += len(current_chunk) - overlap\n",
    "\n",
    "\n",
    "    return chunks"
   ]
  },
  {
   "cell_type": "code",
   "execution_count": 5,
   "id": "88540aa2",
   "metadata": {},
   "outputs": [],
   "source": [
    "texto = \"\"\"Entry requirements for Spain are as follows:\n",
    "              - Passport with validity of at least six months.\n",
    "              - Return ticket.\n",
    "           Entry requirements for China are as follows:\n",
    "              - Passport with validity of at least six months.\n",
    "              - Return ticket.\n",
    "              - Visa.\n",
    "              - Proof of accommodation.\"\"\""
   ]
  },
  {
   "cell_type": "code",
   "execution_count": 6,
   "id": "81ce266c",
   "metadata": {},
   "outputs": [
    {
     "name": "stdout",
     "output_type": "stream",
     "text": [
      "0 Entry requirements for Spain are as follows:\n",
      "              - Passport with validity of at least six months.\n",
      "1 - Return ticket.\n",
      "2 Entry requirements for China are as follows:\n",
      "              - Passport with validity of at least six months.\n",
      "3 - Return ticket.\n",
      "4 - Visa.\n",
      "5 - Proof of accommodation.\n"
     ]
    }
   ],
   "source": [
    "s_textos = split_sentences_by_nltk(texto)\n",
    "\n",
    "for i in range(len(s_textos)):\n",
    "    print(i, s_textos[i])"
   ]
  },
  {
   "cell_type": "code",
   "execution_count": 7,
   "id": "4b657a01",
   "metadata": {},
   "outputs": [
    {
     "name": "stdout",
     "output_type": "stream",
     "text": [
      "0 Entry requirements for Spain are as follows:\n",
      "              - Passport with validity of at least six months.\n",
      "              - Return ticket.\n",
      "           \n",
      "1 Entry requirements for China are as follows:\n",
      "              - Passport with validity of at least six months.\n",
      "              - Return ticket.\n",
      "              - Visa.\n",
      "              \n",
      "2 - Proof of accommodation.\n"
     ]
    }
   ],
   "source": [
    "s_textos = split_sentences_by_spacy(texto, max_tokens=20)\n",
    "for i in range(0, len(s_textos)):\n",
    "   print(i, s_textos[i])"
   ]
  },
  {
   "cell_type": "markdown",
   "id": "cf7e98ec",
   "metadata": {},
   "source": [
    "# PDF"
   ]
  },
  {
   "cell_type": "code",
   "execution_count": 9,
   "id": "09439b8a",
   "metadata": {},
   "outputs": [
    {
     "name": "stdout",
     "output_type": "stream",
     "text": [
      "Number of PDF pages: 38\n",
      "186037\n"
     ]
    }
   ],
   "source": [
    "texto_pdf = extract_text_from_pdf('/home/armando/git/gen_ai/generative/condiciones_generales.pdf')\n",
    "print(len(texto_pdf))"
   ]
  },
  {
   "cell_type": "code",
   "execution_count": 14,
   "id": "9a6fee1e",
   "metadata": {},
   "outputs": [],
   "source": [
    "#sub_texto = texto_pdf.split('CAPITULO I – Generalidades')[2]\n",
    "#sub_texto = sub_texto.split('CAPITULO II')[1]\n",
    "#sub_texto = sub_texto.split('CAPITULO III')[0]"
   ]
  },
  {
   "cell_type": "code",
   "execution_count": 8,
   "id": "709d75bd",
   "metadata": {},
   "outputs": [],
   "source": [
    "array_tag = ['asistencia medica', 'asistencia medica', 'traslados', 'repatriacion', 'traslados', 'reintegro',\n",
    "             'soporte', 'soporte', 'soporte', 'repatriacion', 'equipaje', 'reintegro', 'soporte', 'soporte', \n",
    "             'deportes' , 'deportes']\n",
    "array_titulo = ['Asistencia Médica por enfermedad o accidente',\n",
    "                'Prótesis y ortesis',\n",
    "                'Traslados sanitarios', \n",
    "                'Repatriaciones Sanitarias',\n",
    "                'Traslado de familiar',\n",
    "                'Reintegro de gastos por imposibilidad de embarque',\n",
    "                'Transmisión de mensajes urgentes', \n",
    "                'Asistencia en caso de extravío de documentos y/o tarjetas de crédito', \n",
    "                'Línea de Consultas', \n",
    "                'Repatriación o Traslado de restos', \n",
    "                'Compensación por daños en el equipaje (tramos marítimos/fluviales/aéreos)', \n",
    "                'Regreso anticipado por siniestro en el domicilio', \n",
    "                'Asistencia Legal', \n",
    "                'Transferencia de fondos:', \n",
    "                'Práctica recreativa de deportes', \n",
    "                'Upgrade Deporte']\n",
    "array_contenido = [\"\"\"Los servicios de asistencia médica ofrecidos por la prestadora comprenden exclusivamente el tratamiento de \n",
    "urgencia del cuadro agudo que impida la continuación del viaje, e incluyen: \n",
    "a) Consultas médicas.  La prestadora  podrá coordinar visitas a domicilio siempre que: i) el tipo de \n",
    "emergencia lo amerite, ii) haya disponibilidad en la red de proveedores de la prestadora  de médicos que \n",
    "brinden estos servicios en la localidad donde deba asistirse la emergencia; iii) los médicos tengan \n",
    "disponibilidad en el horario en que sea requerido.  \n",
    "b) Teleasistencia médica: Según la naturaleza de la asistencia, la prestadora  podrá coordinar y gestionar \n",
    "esta prestación cuyo objetivo es orientar y proporcionar información general sobre salud. Dependiendo del \n",
    "país en que se encuentre el pasajero el servicio podrá incluir la emisión de una receta médica y/o \n",
    "medicamentos siempre vinculados con el diagnóstico motivo de la consulta. Incluso en las situaciones en \n",
    "las que se pueda emitir una receta médica existirán limitaciones sobre todos aquellos medicamentos \n",
    "controlados por las leyes locales y/o que contengan psicofármacos, en cuyos casos solo podrá emitirse una \n",
    "receta médica por medio de una asistencia médica presencial. \n",
    "c) Atención por especialista: cuando sea indicada por los equipos médicos de urgencia y autorizada \n",
    "previamente por la Central Operativa de la prestadora .\"\"\", \n",
    "                  \"\"\"la prestadora tomará a cargo los gastos de prótesis y ortesis, únicamente cuando esté \n",
    "indicado en el cuadro de prestaciones del voucher y hasta el sublímite monetario allí indicado. Se obviará, en \n",
    "consecuencia, la exclusión 50)xxvii). Los gastos por esta prestación serán imputados a cuenta del Límite de \n",
    "Gastos de Asistencia Médica indicado en el cuadro de prestaciones.\"\"\",\n",
    "                  \"\"\"en casos de emergencia, la prestadora organizará el traslado al centro asistencial más \n",
    "próximo para que el Titular herido o enfermo reciba atención médica. En caso de que el médico tratante \n",
    "aconseje el traslado a otro centro asistencial más adecuado, previa autorización del Departamento Médico de \n",
    "la prestadora , se procederá a la organización del mismo, según las posibilidades del caso, en las condiciones \n",
    "y medios autorizados por la Central Operativa interviniente.  \n",
    "Únicamente razones de índole médica, evaluadas a criterio exclusivo del Departamento Médico de la \n",
    "prestadora , serán tenidas en cuenta para decidir la procedencia y/o urgencia del traslado del Titular. Siempre \n",
    "que el médico tratante aconsejara el traslado sanitario del Titular, éste deberá ser médica y científicamente \n",
    "justificado por escrito.\"\"\", \n",
    "                  \"\"\"cuando el Departamento Médico de la prestadora estime necesario efectuar la \n",
    "repatriación sanitaria del Titular, como consecuencia de enfermedad o accidente grave, la repatriación del \n",
    "herido o enfermo será efectuada, previa autorización del Departamento Médico de la prestadora , según las \n",
    "posibilidades del caso, en las condiciones y medios autorizados por la Central Operativa interviniente, hasta el \n",
    "país del domicilio real del Titular. Esta repatriación asimismo deberá ser autorizada y justificada médica y \n",
    "científicamente por el médico tratante. Si el Titular o sus acompañantes decidieran efectuar la repatriación \n",
    "dejando de lado la opinión del Departamento Médico de la prestadora , ninguna responsabilidad recaerá sobre \n",
    "la prestadora por dicha actitud, siendo la repatriación, sus costos y consecuencias por cuenta y riesgo del \n",
    "Titular y/o sus acompañantes, sin derecho a repetición contra la prestadora .  \n",
    "Los gastos por esta prestación serán imputados a cuenta del Límite de Gastos de Asistencia Médica indicado \n",
    "en el cuadro de prestaciones. \"\"\", \n",
    "                  \"\"\"  \n",
    "a) en caso de aislamiento social médico prescripto por profesional médico de aquel Titular con diagnóstico \n",
    "positivo COVID-19 producida por el virus SARS-COV2 habiendo sido la asistencia coordinada por la \n",
    "prestadora , , la prestadora se hará cargo de un billete aéreo ida y vuelta en clase económica desde el \n",
    "país de residencia del Titular, para que un familiar del Titular lo acompañe, siempre que el mismo hubiera \n",
    "viajado sin acompañantes (o con menores) y se encontrara solo en destino al tiempo de la hospitalización. \n",
    "Los billetes aéreos estarán sujetos a disponibilidad de lugar. Los gastos por esta prestación serán \n",
    "imputados a cuenta del Límite de Gastos de Asistencia Médica indicado en el cuadro de prestaciones . \n",
    "b) en caso de que la hospitalización de un Titular, autorizada por la prestadora , sea superior a 5 (cinco) días \n",
    "corridos, la prestadora se hará cargo de un billete aéreo ida y vuelta en clase económica desde el país de \n",
    "residencia del Titular, para que un familiar del Titular lo acompañe, siempre que el mismo hubiera viajado \n",
    "sin acompañantes (o con menores) y se encontrara solo en destino al tiempo de la hospitalización. Los \n",
    "billetes aéreos estarán sujetos a disponibilidad de lugar.  Este beneficio se otorgará únicamente en la \n",
    "medida que los primeros 5 (cinco) días de hospitalización estén comprendidos dentro de la vigencia del \n",
    "voucher del Titular. Los gastos por esta prestación serán imputados a cuenta del Límite de Gastos de \n",
    "Asistencia Médica indicado en el cuadro de prestaciones .\"\"\", \"\"\"La prestadora  reintegrará los gastos de hotel (sin extras, es decir solamente alojamiento) del Titular que, por \n",
    "razones médicas comprobables por el Departamento Médico de la prestadora , se vea imposibilitado de \n",
    "embarcar en el vuelo de regreso a su país de residencia. Esta prestación se brindará desde la fecha original \n",
    "de embarque y tendrá un límite monetario indicado en el cuadro de prestaciones. Los gastos por esta \n",
    "prestación serán imputados a cuenta del Límite de Gastos de Asistencia Médica indicado en el cuadro de \n",
    "prestaciones .\"\"\",\n",
    "                  \"\"\"\n",
    "la prestadora se encargará de transmitir los mensajes urgentes y \n",
    "justificados de los Beneficiarios  relativos a cualquiera de los eventos objeto de las prestaciones de esta \n",
    "modalidad.\"\"\", \"\"\" \n",
    "la prestadora asesorará al Titular \n",
    "en el caso que hubiera extraviado sus documentos y/o tarjetas de crédito.\"\"\",\n",
    "                   \"\"\"la prestadora brindará información al Titular,  a través de su Central Operativa y durante \n",
    "las 24 horas, los 365 días del año, referente a:  \n",
    "a) Hoteles, clima, moneda, consulados, embajadas, etc. de su lugar de destino.  \n",
    "b) Consejos generales previos al viaje en relación a las patologías y/o necesidades del cliente. \n",
    "c) Información sobre medicamentos equivalentes en caso de extravío u olvido de su medicina habitual.\"\"\",\"\"\" \n",
    " en caso de fallecimiento del Titular de un voucher durante el viaje, la \n",
    "prestadora organizará y tomará a su cargo, por el medio que considere más conveniente, los gastos de féretro  \n",
    " de traslado o cremación en el lugar del hecho, trámites administrativos (en lo que esté a su alcance) y transporte \n",
    "hasta: \n",
    "a) Para aquellos vouchers  que confieren derecho a asistencia en el ámbito internacional: el lugar de ingreso \n",
    "al país del domicilio real del Titular. Los traslados dentro del país de residencia del Titular no estarán a \n",
    "cargo de la prestadora ; \n",
    "b) Para aquellos vouchers  que confieren derecho a asistencia en el ámbito nacional: el lugar de inhumación \n",
    "que determinen sus familiares directos, en la ciudad del domicilio real del Titular. \n",
    "c) En caso de deceso del Titular del voucher , y si éste hubiera viajado sin acompañantes y se encontrara solo \n",
    "(o con menores) en destino, la prestadora  abonará los gastos de traslado y alojamiento de un familiar \n",
    "(desde el lugar de residencia del titular) para que pueda realizar los trámites y gestiones de traslado \n",
    "necesarias. Los tickets serán en clase económica y estarán sujetos a disponibilidad de la compañía de \n",
    "transporte de pasajeros. Por concepto de hotel (alojamiento, sin extras), la prestadora  asumirá hasta USD \n",
    "150 (dólares estadounidenses ciento cincuenta) por noche, por un máximo de tres noches.  \n",
    "Los gastos de féretro definitivo, trámites funerarios e inhumación no estarán en ningún caso a cargo de la \n",
    "prestadora . \"\"\", \"\"\" \n",
    "Si alguno de los bultos del equipaje despachado en bodega por el Titular sufriera daños tales que impidan su \n",
    "normal uso, la prestadora abonará al Titular una suma en concepto de indemnización por daños en el equipaje, \n",
    "cuyo límite se indica en el cuadro de prestaciones . \n",
    "Quedan excluidos daños estéticos, aquellos que no afecten la funcionalidad del bien y los derivados del normal \n",
    "desgaste. \n",
    "Para la procedencia de este beneficio debe verificarse: \n",
    "a) que el voucher del Titular incluya este beneficio para el medio de transporte que da lugar al reclamo. \n",
    "b) que la rotura haya ocurrido entre el momento en que el equipaje fue embarcado y el momento en que deba \n",
    "ser entregado al pasajero al desembarcar;  \n",
    "c) el Titular deberá realizar la denuncia pertinente ante la empresa transportista, y presentar la misma a la \n",
    "prestadora;   \n",
    "d) el Titular deberá notificar a la prestadora  dentro de las 48 horas de emitido el formulario de denuncia ante \n",
    "la compañía transportista.\"\"\", \"\"\"en caso de ocurrencia de robo con violencia de puertas o \n",
    "ventanas, incendio o explosión en el domicilio real del Titular, con riesgo a producirse mayores daños, la \n",
    "prestadora  tomará a cargo los gastos de regreso correspondientes del Titular del voucher  hasta el domicilio \n",
    "siniestrado. Si la vivienda perteneciera a dos o más Titulares de vouchers , la prestadora tomará a su cargo \n",
    "solamente el regreso de uno solo de los Titulares. Se entiende por gastos de regreso a la penalidad por cambio \n",
    "de fecha del pasaje de regreso o la diferencia de costo de un pasaje de vuelta desde el domicilio donde se \n",
    "encuentre el Titular del voucher  hasta el domicilio siniestrado. En los casos en los que el pasajero hubiera \n",
    "adquirido un ticket que no admite cambios ni siquiera abonando una penalidad, entonces la prestadora  \n",
    "reintegrará un monto máximo de USD 200 (doscientos dólares estadounidenses)\"\"\", \"\"\"la prestadora pondrá a disposición del Titular que lo solicite un abogado que se haga cargo \n",
    "de su defensa civil o criminal con motivo de imputársele responsabilidad por un accidente de tránsito. La \n",
    "prestadora se hará cargo de un importe destinado a cubrir el pago de los honorarios de dicho abogado hasta \n",
    "el límite máximo que se detalla en el cuadro de prestaciones . La asistencia no se brindará ni se reconocerá \n",
    "importe alguno en caso de que el Titular utilice un profesional que no fuera designado o autorizado \n",
    "fehacientemente por la prestadora . \"\"\", \"\"\"en caso de emergencia justificada y a criterio de la prestadora , el Titular podrá \n",
    "solicitar la transferencia de una suma de dinero acorde a la emergencia acontecida y hasta el límite máximo \n",
    "que por viaje corresponda al tipo de voucher  contratado y que surge de lo informado en el cuadro de \n",
    "prestaciones . El costo de la transferencia de fondos estará a cargo de la prestadora . Se entiende que el \n",
    "Titular deberá arbitrar los medios para que la prestadora  reciba antes de efectuar la transferencia la totalidad \n",
    "del monto a transferir en sus oficinas o donde le sea solicitado. La prestadora  no gestionará la compra o venta \n",
    "de moneda extranjera ni será responsable en aquellos casos en los que las disposiciones legales y/o \n",
    "impositivas de los países involucrados en el envío de fondos restrinjan o impongan condiciones diferentes a las \n",
    "requeridas por el titular del voucher . \"\"\", \"\"\" \n",
    "a) Aplicación : la prestadora cubrirá las asistencias médicas derivadas de la práctica recreativa de deportes \n",
    "hasta el monto indicado en el cuadro de prestaciones del voucher siempre que las mismas: \n",
    "i) Tengan carácter recreativo, es decir que no son el “motivo” del viaje del titular, sino una actividad que \n",
    "surge de manera espontánea y ocasional, \n",
    "ii) Se lleven a cabo en ámbitos adecuados y con las medidas de seguridad necesarias, \n",
    "b) Exclusiones particulares: \n",
    "i) Asistencias derivadas de la participación del titular en competencias deportivas sean amateurs o \n",
    "profesionales. \n",
    "ii) Asistencias derivadas de la participación del titular en prácticas, entrenamientos, etc. de índole amateur \n",
    "o profesional. \n",
    "iii) Asistencias derivadas de la participación en deportes peligrosos.\"\"\", \"\"\"exclusivamente  para aquellos vouchers  con el upgrade de DEPORTES  y dados los \n",
    "supuestos indicados en las presentes Condiciones Generales,  la prestadora brindará adicionalmente al Titular \n",
    "los siguientes servicios:  \n",
    "a) Gastos por búsqueda y salvamento: la prestadora tomará a su cargo, hasta el límite máximo de USD \n",
    "5.000 (dólares estadounidenses cinco mil) por los gastos originados para la búsqueda y salvamento al \n",
    "momento de organizar el rescate del Titular, ocasionados por la práctica deportiva de carácter amateur, \n",
    "exclusivamente si el lugar en que se produce el evento no cuenta con los medios necesarios a tal fin. Los \n",
    "gastos por esta prestación serán imputados a cuenta del Límite de Gastos de Asistencia Médica indicado \n",
    "en la cláusula 9)m). \n",
    "b) La prestadora  brindará a su cargo los servicios de Asistencia Médica requeridos como consecuencia de la \n",
    "práctica o la participación del Titular en competencias de cualquier deporte (sean amateurs o profesionales), \n",
    "siempre y cuando las mismas se realicen en los ámbitos expresamente adecuados y/o autorizados a tal fin; \n",
    "se obviarán en consecuencia y al efecto de esta prestación las exclusiones mencionadas en la cláusula \n",
    "50)xiv) y 50)xv). Los gastos por esta prestación serán imputados a cuenta del Límite de Gastos de \n",
    "Asistencia Médica indicado en la cláusula 9)m). \n",
    "c) Exclusiones Particulares: se encuentran excluidos de la prestación asistencial, tanto para los supuestos \n",
    "de enfermedad como de Accidente, los tratamientos de los eventos que se detallan a continuación: \n",
    "i) Consecuencias derivadas de la práctica, tanto profesional como amateur de paracaidismo, salto base, \n",
    "wingsuit, montañismo a más de 3000 msnm, escalada en roca, buceo, boxeo, motociclismo, \n",
    "automovilismo, descenso ciclismo de montaña, bungee-jumping y los denominados deportes extremos \n",
    "en general. \n",
    "d) El resto de  las Condiciones Generales mantiene plena vigencia, salvo aquellos aspectos expresamente \n",
    "modificados por la presente cláusula. \"\"\"]"
   ]
  },
  {
   "cell_type": "code",
   "execution_count": 9,
   "id": "c7be5c5a-e7b4-49ba-994f-1dc335d98da4",
   "metadata": {},
   "outputs": [
    {
     "name": "stdout",
     "output_type": "stream",
     "text": [
      "16\n",
      "16\n",
      "16\n"
     ]
    }
   ],
   "source": [
    "print(len(array_tag))\n",
    "print(len(array_titulo)) \n",
    "print(len(array_contenido))"
   ]
  },
  {
   "cell_type": "code",
   "execution_count": 10,
   "id": "41e1dc0b-67d4-47ba-b3d0-d37620b72af0",
   "metadata": {},
   "outputs": [
    {
     "name": "stdout",
     "output_type": "stream",
     "text": [
      "deportes\n",
      "Upgrade Deporte\n",
      "exclusivamente  para aquellos vouchers  con el upgrade de DEPORTES  y dados los \n",
      "supuestos indicados en las presentes Condiciones Generales,  la prestadora brindará adicionalmente al Titular \n",
      "los siguientes servicios:  \n",
      "a) Gastos por búsqueda y salvamento: la prestadora tomará a su cargo, hasta el límite máximo de USD \n",
      "5.000 (dólares estadounidenses cinco mil) por los gastos originados para la búsqueda y salvamento al \n",
      "momento de organizar el rescate del Titular, ocasionados por la práctica deportiva de carácter amateur, \n",
      "exclusivamente si el lugar en que se produce el evento no cuenta con los medios necesarios a tal fin. Los \n",
      "gastos por esta prestación serán imputados a cuenta del Límite de Gastos de Asistencia Médica indicado \n",
      "en la cláusula 9)m). \n",
      "b) La prestadora  brindará a su cargo los servicios de Asistencia Médica requeridos como consecuencia de la \n",
      "práctica o la participación del Titular en competencias de cualquier deporte (sean amateurs o profesionales), \n",
      "siempre y cuando las mismas se realicen en los ámbitos expresamente adecuados y/o autorizados a tal fin; \n",
      "se obviarán en consecuencia y al efecto de esta prestación las exclusiones mencionadas en la cláusula \n",
      "50)xiv) y 50)xv). Los gastos por esta prestación serán imputados a cuenta del Límite de Gastos de \n",
      "Asistencia Médica indicado en la cláusula 9)m). \n",
      "c) Exclusiones Particulares: se encuentran excluidos de la prestación asistencial, tanto para los supuestos \n",
      "de enfermedad como de Accidente, los tratamientos de los eventos que se detallan a continuación: \n",
      "i) Consecuencias derivadas de la práctica, tanto profesional como amateur de paracaidismo, salto base, \n",
      "wingsuit, montañismo a más de 3000 msnm, escalada en roca, buceo, boxeo, motociclismo, \n",
      "automovilismo, descenso ciclismo de montaña, bungee-jumping y los denominados deportes extremos \n",
      "en general. \n",
      "d) El resto de  las Condiciones Generales mantiene plena vigencia, salvo aquellos aspectos expresamente \n",
      "modificados por la presente cláusula. \n"
     ]
    }
   ],
   "source": [
    "i = 15\n",
    "print(array_tag[i])\n",
    "print(array_titulo[i])\n",
    "print(array_contenido[i])"
   ]
  },
  {
   "cell_type": "code",
   "execution_count": 39,
   "id": "71621238-ff6f-41c0-98d1-16ac1b98649d",
   "metadata": {},
   "outputs": [
    {
     "name": "stdout",
     "output_type": "stream",
     "text": [
      "Chunks for term 0 are 7\n",
      "Chunks for term 1 are 4\n",
      "Chunks for term 2 are 6\n",
      "Chunks for term 3 are 4\n",
      "Chunks for term 4 are 9\n",
      "Chunks for term 5 are 3\n",
      "Chunks for term 6 are 1\n",
      "Chunks for term 7 are 1\n",
      "Chunks for term 8 are 4\n",
      "Chunks for term 9 are 9\n",
      "Chunks for term 10 are 8\n",
      "Chunks for term 11 are 6\n",
      "Chunks for term 12 are 6\n",
      "Chunks for term 13 are 7\n",
      "Chunks for term 14 are 8\n",
      "Chunks for term 15 are 14\n"
     ]
    }
   ],
   "source": [
    "#GENERAR EMBEDDINGS PARA CADA CHUNK\n",
    "array_vectores = []\n",
    "array_textos = []\n",
    "for i in range(0, len(array_contenido)):\n",
    "\n",
    "    chunks = split_sentences_by_spacy(array_contenido[i], max_tokens=3000, overlap=10)\n",
    "    print('Chunks for term ' + str(i) + ' are ' + str(len(chunks)))\n",
    "    array_sub_vectores = []\n",
    "    array_sub_texto = []\n",
    "\n",
    "    for j in range(0, len(chunks)):\n",
    "        texto_procesado = chunks[j].replace('\\n', ' ')\n",
    "        vector = get_embedding(texto_procesado)\n",
    "        array_sub_texto.append(texto_procesado)\n",
    "        array_sub_vectores.append(vector)\n",
    "\n",
    "        #break\n",
    "\n",
    "    array_textos.append(array_sub_texto)\n",
    "    array_vectores.append(array_sub_vectores)\n",
    "    #break\n",
    "    "
   ]
  },
  {
   "cell_type": "code",
   "execution_count": 40,
   "id": "323bb20a-ad75-4f19-a9ef-f56909c80269",
   "metadata": {},
   "outputs": [
    {
     "name": "stdout",
     "output_type": "stream",
     "text": [
      "16\n",
      "16\n"
     ]
    }
   ],
   "source": [
    "print(len(array_vectores))\n",
    "print(len(array_textos))"
   ]
  },
  {
   "cell_type": "code",
   "execution_count": 45,
   "id": "3bbdc50f-dfc8-487c-aa9e-a6c12462b4e1",
   "metadata": {},
   "outputs": [
    {
     "name": "stdout",
     "output_type": "stream",
     "text": [
      "(16, 5)\n"
     ]
    },
    {
     "data": {
      "text/html": [
       "<div>\n",
       "<style scoped>\n",
       "    .dataframe tbody tr th:only-of-type {\n",
       "        vertical-align: middle;\n",
       "    }\n",
       "\n",
       "    .dataframe tbody tr th {\n",
       "        vertical-align: top;\n",
       "    }\n",
       "\n",
       "    .dataframe thead th {\n",
       "        text-align: right;\n",
       "    }\n",
       "</style>\n",
       "<table border=\"1\" class=\"dataframe\">\n",
       "  <thead>\n",
       "    <tr style=\"text-align: right;\">\n",
       "      <th></th>\n",
       "      <th>tag</th>\n",
       "      <th>titulo</th>\n",
       "      <th>descripcion</th>\n",
       "      <th>contenido</th>\n",
       "      <th>embedding</th>\n",
       "    </tr>\n",
       "  </thead>\n",
       "  <tbody>\n",
       "    <tr>\n",
       "      <th>0</th>\n",
       "      <td>asistencia medica</td>\n",
       "      <td>Asistencia Médica por enfermedad o accidente</td>\n",
       "      <td>Los servicios de asistencia médica ofrecidos p...</td>\n",
       "      <td>[Los servicios de asistencia médica ofrecidos ...</td>\n",
       "      <td>[[-0.019654173403978348, -0.009384604170918465...</td>\n",
       "    </tr>\n",
       "    <tr>\n",
       "      <th>1</th>\n",
       "      <td>asistencia medica</td>\n",
       "      <td>Prótesis y ortesis</td>\n",
       "      <td>la prestadora tomará a cargo los gastos de pró...</td>\n",
       "      <td>[la prestadora tomará a cargo los gastos de pr...</td>\n",
       "      <td>[[0.0008464913116768003, -0.009172453545033932...</td>\n",
       "    </tr>\n",
       "    <tr>\n",
       "      <th>2</th>\n",
       "      <td>traslados</td>\n",
       "      <td>Traslados sanitarios</td>\n",
       "      <td>en casos de emergencia, la prestadora organiza...</td>\n",
       "      <td>[en casos de emergencia, la prestadora organiz...</td>\n",
       "      <td>[[-0.009860559366643429, -0.013706246390938759...</td>\n",
       "    </tr>\n",
       "  </tbody>\n",
       "</table>\n",
       "</div>"
      ],
      "text/plain": [
       "                 tag                                        titulo  \\\n",
       "0  asistencia medica  Asistencia Médica por enfermedad o accidente   \n",
       "1  asistencia medica                            Prótesis y ortesis   \n",
       "2          traslados                          Traslados sanitarios   \n",
       "\n",
       "                                         descripcion  \\\n",
       "0  Los servicios de asistencia médica ofrecidos p...   \n",
       "1  la prestadora tomará a cargo los gastos de pró...   \n",
       "2  en casos de emergencia, la prestadora organiza...   \n",
       "\n",
       "                                           contenido  \\\n",
       "0  [Los servicios de asistencia médica ofrecidos ...   \n",
       "1  [la prestadora tomará a cargo los gastos de pr...   \n",
       "2  [en casos de emergencia, la prestadora organiz...   \n",
       "\n",
       "                                           embedding  \n",
       "0  [[-0.019654173403978348, -0.009384604170918465...  \n",
       "1  [[0.0008464913116768003, -0.009172453545033932...  \n",
       "2  [[-0.009860559366643429, -0.013706246390938759...  "
      ]
     },
     "metadata": {},
     "output_type": "display_data"
    }
   ],
   "source": [
    "output_df = pd.DataFrame({'tag': array_tag, 'titulo': array_titulo, 'descripcion': array_contenido, \n",
    "                          'contenido': array_textos, 'embedding': array_vectores})\n",
    "print(output_df.shape)\n",
    "display(output_df.head(3))"
   ]
  },
  {
   "cell_type": "code",
   "execution_count": 46,
   "id": "7ad10c79-45d3-4775-b4fd-5789d28f8a00",
   "metadata": {},
   "outputs": [
    {
     "name": "stdout",
     "output_type": "stream",
     "text": [
      "Los servicios de asistencia médica ofrecidos por la prestadora comprenden exclusivamente el tratamiento de \n",
      "urgencia del cuadro agudo que impida la continuación del viaje, e incluyen: \n",
      "a) Consultas médicas.  La prestadora  podrá coordinar visitas a domicilio siempre que: i) el tipo de \n",
      "emergencia lo amerite, ii) haya disponibilidad en la red de proveedores de la prestadora  de médicos que \n",
      "brinden estos servicios en la localidad donde deba asistirse la emergencia; iii) los médicos tengan \n",
      "disponibilidad en el horario en que sea requerido.  \n",
      "b) Teleasistencia médica: Según la naturaleza de la asistencia, la prestadora  podrá coordinar y gestionar \n",
      "esta prestación cuyo objetivo es orientar y proporcionar información general sobre salud. Dependiendo del \n",
      "país en que se encuentre el pasajero el servicio podrá incluir la emisión de una receta médica y/o \n",
      "medicamentos siempre vinculados con el diagnóstico motivo de la consulta. Incluso en las situaciones en \n",
      "las que se pueda emitir una receta médica existirán limitaciones sobre todos aquellos medicamentos \n",
      "controlados por las leyes locales y/o que contengan psicofármacos, en cuyos casos solo podrá emitirse una \n",
      "receta médica por medio de una asistencia médica presencial. \n",
      "c) Atención por especialista: cuando sea indicada por los equipos médicos de urgencia y autorizada \n",
      "previamente por la Central Operativa de la prestadora .\n"
     ]
    }
   ],
   "source": [
    "output_json = output_df.to_dict(orient='index')\n",
    "print(output_json[0]['descripcion'])"
   ]
  },
  {
   "cell_type": "code",
   "execution_count": 47,
   "id": "13b0e001-18e3-4f10-ae8d-0c0a78ba1f12",
   "metadata": {},
   "outputs": [],
   "source": [
    "with open('terminos.json', 'w') as f:\n",
    "    json.dump(output_json, f)"
   ]
  },
  {
   "cell_type": "code",
   "execution_count": null,
   "id": "3a6fa6b4-743f-47d6-85e4-259a9728dcf0",
   "metadata": {},
   "outputs": [],
   "source": []
  }
 ],
 "metadata": {
  "kernelspec": {
   "display_name": "Python 3 (ipykernel)",
   "language": "python",
   "name": "python3"
  },
  "language_info": {
   "codemirror_mode": {
    "name": "ipython",
    "version": 3
   },
   "file_extension": ".py",
   "mimetype": "text/x-python",
   "name": "python",
   "nbconvert_exporter": "python",
   "pygments_lexer": "ipython3",
   "version": "3.12.3"
  }
 },
 "nbformat": 4,
 "nbformat_minor": 5
}
