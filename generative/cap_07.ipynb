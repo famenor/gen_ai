{
 "cells": [
  {
   "cell_type": "code",
   "execution_count": 9,
   "id": "6582cb35-b8e3-4dd4-a90f-8e2bfe0d679d",
   "metadata": {},
   "outputs": [],
   "source": [
    "import os\n",
    "import json\n",
    "import re\n",
    "import nltk\n",
    "import spacy\n",
    "import PyPDF2\n",
    "\n",
    "from openai import OpenAI"
   ]
  },
  {
   "cell_type": "code",
   "execution_count": 2,
   "id": "7ae9bbb0-ef44-4aa8-af73-0dc966e1c195",
   "metadata": {},
   "outputs": [],
   "source": [
    "os.environ['OPENAI_API_KEY'] = ''"
   ]
  },
  {
   "cell_type": "code",
   "execution_count": 10,
   "id": "32c67baf",
   "metadata": {},
   "outputs": [],
   "source": [
    "# function that extracts text from a PDF\n",
    "def extract_text_from_pdf(pdf_path):\n",
    "    with open(pdf_path, 'rb') as file:\n",
    "        reader = PyPDF2.PdfReader(file)\n",
    "        print(\"Number of PDF pages:\", len(reader.pages))\n",
    "        text = \"\"\n",
    "        for  page in reader.pages:\n",
    "            page_text = page.extract_text()\n",
    "            text += page_text\n",
    "            #print(page_text)\n",
    "    return text"
   ]
  },
  {
   "cell_type": "markdown",
   "id": "9ffb0929",
   "metadata": {},
   "source": [
    "# Chunking"
   ]
  },
  {
   "cell_type": "code",
   "execution_count": 3,
   "id": "dcbb9640-e293-40ab-aec0-2a781de261f8",
   "metadata": {},
   "outputs": [],
   "source": [
    "def split_sentences(text):\n",
    "    \n",
    "    sentences = re.split('[.|?]', text)\n",
    "    sentences = [sentence.strip() for sentence in sentences if sentence.split()]\n",
    "\n",
    "    return sentences\n",
    "\n",
    "def split_sentences_by_nltk(text):\n",
    "\n",
    "    chunks = []\n",
    "    for sentence in nltk.sent_tokenize(text):\n",
    "        chunks.append(sentence)\n",
    "    \n",
    "    return chunks\n",
    "\n",
    "def split_sentences_by_spacy(text, max_tokens, overlap=0, model='en_core_web_sm'):\n",
    "\n",
    "    nlp = spacy.load(model)\n",
    "    doc = nlp(text)\n",
    "    sentences = [sent.text for sent in doc.sents]\n",
    "\n",
    "    return sentences\n",
    "\n",
    "    tokens_lengths = [count_tokens(sent) for sent in sentences]\n",
    "\n",
    "    chunks = []\n",
    "    start_idx = 0\n",
    "\n",
    "    while start_idx < len(sentences):\n",
    "\n",
    "        current_chunk = []\n",
    "        current_token_count = 0\n",
    "        for idx in range(start_idx, len(sentences)):\n",
    "            if current_token_count + tokens_lengths[idx] > max_tokens:\n",
    "                break\n",
    "\n",
    "            current_chunk.append(sentences[idx])\n",
    "            current_token_count += tokens_lengths[idx]\n",
    "\n",
    "        chunks.append(' '.join(current_chunk))\n",
    "\n",
    "        if overlap >= len(current_chunk):\n",
    "            start_idx += 1\n",
    "        else:\n",
    "            start_idx += len(current_chunk) - overlap\n",
    "\n",
    "\n",
    "    return chunks"
   ]
  },
  {
   "cell_type": "code",
   "execution_count": 4,
   "id": "88540aa2",
   "metadata": {},
   "outputs": [],
   "source": [
    "texto = \"\"\"Entry requirements for Spain are as follows:\n",
    "              - Passport with validity of at least six months.\n",
    "              - Return ticket.\n",
    "           Entry requirements for China are as follows:\n",
    "              - Passport with validity of at least six months.\n",
    "              - Return ticket.\n",
    "              - Visa.\n",
    "              - Proof of accommodation.\"\"\""
   ]
  },
  {
   "cell_type": "code",
   "execution_count": 6,
   "id": "81ce266c",
   "metadata": {},
   "outputs": [
    {
     "name": "stdout",
     "output_type": "stream",
     "text": [
      "0 Entry requirements for Spain are as follows:\n",
      "              - Passport with validity of at least six months.\n",
      "1 - Return ticket.\n",
      "2 Entry requirements for China are as follows:\n",
      "              - Passport with validity of at least six months.\n",
      "3 - Return ticket.\n",
      "4 - Visa.\n",
      "5 - Proof of accommodation.\n"
     ]
    }
   ],
   "source": [
    "s_textos = split_sentences_by_nltk(texto)\n",
    "\n",
    "for i in range(len(s_textos)):\n",
    "    print(i, s_textos[i])"
   ]
  },
  {
   "cell_type": "code",
   "execution_count": 20,
   "id": "4b657a01",
   "metadata": {},
   "outputs": [
    {
     "name": "stdout",
     "output_type": "stream",
     "text": [
      "0 Entry requirements for Spain are as follows:\n",
      "              - Passport with validity of at least six months.\n",
      "              - Return ticket.\n",
      "           \n",
      "1 Entry requirements for China are as follows:\n",
      "              - Passport with validity of at least six months.\n",
      "              - Return ticket.\n",
      "              - Visa.\n",
      "              \n",
      "2 - Proof of accommodation.\n"
     ]
    }
   ],
   "source": [
    "s_textos = split_sentences_by_spacy(texto, max_tokens=20)\n",
    "for i in range(0, len(s_textos)):\n",
    "   print(i, s_textos[i])"
   ]
  },
  {
   "cell_type": "markdown",
   "id": "cf7e98ec",
   "metadata": {},
   "source": [
    "# PDF"
   ]
  },
  {
   "cell_type": "code",
   "execution_count": 13,
   "id": "09439b8a",
   "metadata": {},
   "outputs": [
    {
     "name": "stdout",
     "output_type": "stream",
     "text": [
      "Number of PDF pages: 17\n",
      "51699\n"
     ]
    }
   ],
   "source": [
    "texto_pdf = extract_text_from_pdf('/media/armando/Neptuno/git/gen_ai/generative/report.pdf')\n",
    "print(len(texto_pdf))"
   ]
  },
  {
   "cell_type": "code",
   "execution_count": 14,
   "id": "9a6fee1e",
   "metadata": {},
   "outputs": [
    {
     "name": "stdout",
     "output_type": "stream",
     "text": [
      "February 27, 2025\n",
      "Norwegian Cruise Line Holdings Reports Strong\n",
      "Fourth Quarter and Full Year 2024 Financial Results\n",
      "Strong demand drives 2024 revenue up ~1 1% to full year record\n",
      "Company beats full year guidance across key metrics and announces 2025 full year guidance\n",
      "MIAMI, Feb. 27, 2025 (GLOBE NEW SWIRE) -- Norwegian Cruise Line Holdings Ltd. (NYSE: NCLH) (together\n",
      "with NCL Corporation Ltd. (“NCLC”), “Norwegian Cruise Line Holdings”, “Norwegian”, “NCLH” or the\n",
      "“Company”) today reported financial results for the fourth quarter and full year ended December 31, 2024 and\n",
      "provided guidance for the first quarter and full year 2025.\n",
      "Highlights\n",
      "Generated 2024 full year record total revenue of $9.5 billion, increasing ~11% over full year 2023 on 3%\n",
      "capacity growth. GAAP  net income was $910.3 million, up 448% compared to 2023, with EPS increasing\n",
      "386%, to $1.89.\n",
      "2024 full year Adjusted EBITDA  grew  32% to a record $2.45 billion, compared to $1.86 billion in 2023 with\n",
      "Adjusted EPS of $1.82.\n",
      "T\n"
     ]
    }
   ],
   "source": [
    "print(texto_pdf[0:1000])"
   ]
  },
  {
   "cell_type": "code",
   "execution_count": null,
   "id": "709d75bd",
   "metadata": {},
   "outputs": [],
   "source": []
  }
 ],
 "metadata": {
  "kernelspec": {
   "display_name": "Python 3 (ipykernel)",
   "language": "python",
   "name": "python3"
  },
  "language_info": {
   "codemirror_mode": {
    "name": "ipython",
    "version": 3
   },
   "file_extension": ".py",
   "mimetype": "text/x-python",
   "name": "python",
   "nbconvert_exporter": "python",
   "pygments_lexer": "ipython3",
   "version": "3.12.3"
  }
 },
 "nbformat": 4,
 "nbformat_minor": 5
}
