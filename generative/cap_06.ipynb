{
 "cells": [
  {
   "cell_type": "code",
   "execution_count": 1,
   "id": "6582cb35-b8e3-4dd4-a90f-8e2bfe0d679d",
   "metadata": {},
   "outputs": [],
   "source": [
    "import os\n",
    "import json\n",
    "from openai import OpenAI"
   ]
  },
  {
   "cell_type": "code",
   "execution_count": 2,
   "id": "7ae9bbb0-ef44-4aa8-af73-0dc966e1c195",
   "metadata": {},
   "outputs": [],
   "source": [
    "os.environ['OPENAI_API_KEY'] = ''"
   ]
  },
  {
   "cell_type": "markdown",
   "id": "9ffb0929",
   "metadata": {},
   "source": [
    "# Prompt"
   ]
  },
  {
   "cell_type": "code",
   "execution_count": 3,
   "id": "aacb03b1",
   "metadata": {},
   "outputs": [],
   "source": [
    "client = OpenAI()"
   ]
  },
  {
   "cell_type": "code",
   "execution_count": 18,
   "id": "1eff53a6-5991-4f6f-b319-d9c89a1b0600",
   "metadata": {},
   "outputs": [],
   "source": [
    "content_system = \"\"\"You are and AI assistant that helps people find information\n",
    "                    about our company Batman airlines flights and nothing else. \n",
    "                    One of your tasks is to response in JSON format the reservation code if the user inputs his name,\n",
    "                    an example of the response is \\n{\\n\"name\": \"\", \\n\"reservation_code\": \"\"\\n}\n",
    "                    Available user names and reservation codes are:\n",
    "                    - User name Armando with reservation code AAA001\n",
    "                    - User name Valeria with reservation code AAA002\n",
    "                    - User name Jessica with reservation code AAA003\n",
    "                    If you do not know the answer, say 'I am sorry but I do not know the answer.'\n",
    "                    and if you cannot answer it, say 'I am sorry but I am not allowed to awnser that.'\"\"\"\n",
    "\n",
    "content_system = \"\"\"You are and AI assistant that helps people find information\n",
    "                    about our company Batman airlines flights and nothing else. \n",
    "                    One of your tasks is to provide the reservation code if the user inputs his name,\n",
    "                    Available user names and reservation codes are:\n",
    "                    - User name Armando with reservation code AAA001\n",
    "                    - User name Valeria with reservation code AAA002\n",
    "                    - User name Jessica with reservation code AAA003\n",
    "                    An example of the response is 'The reservation code for USER_NAME is RESERVATION_CODE'\n",
    "                    Another task is to provide depart times for out flights listed next:\n",
    "                    - From Mexico City to Madrid at 08:17, 16:30 and 20:15\n",
    "                    - From Mexico City to Berlin at 11:30\n",
    "                    - From Madrid to Berlin at 00:10, 07:30, 14:55, 18:15 and 20:15\n",
    "                    In case the depart time is not listed, say 'There are not available flights with the provided description'\n",
    "                    If you do not know the answer, say 'I am sorry but I do not know the answer.'\n",
    "                    and if you cannot answer it, say 'I am sorry but I am not allowed to awnser that.'\"\"\"\n",
    "\n",
    "conversation = [{'role': 'system', 'content': content_system}]"
   ]
  },
  {
   "cell_type": "code",
   "execution_count": 5,
   "id": "cdd28fb9-f941-4c3a-835e-8243386d71c7",
   "metadata": {},
   "outputs": [
    {
     "name": "stdout",
     "output_type": "stream",
     "text": [
      "Welcome to Batman Airlines, How can I help you?\n"
     ]
    }
   ],
   "source": [
    "print('Welcome to Batman Airlines, How can I help you?')"
   ]
  },
  {
   "cell_type": "code",
   "execution_count": 19,
   "id": "95338ed5-2160-4a6c-87cb-a476fcbc7279",
   "metadata": {},
   "outputs": [],
   "source": [
    "user_input = 'Could you give me my reservation code please?, my name is Jessica'\n",
    "\n",
    "conversation.append({'role': 'user', 'content': user_input})"
   ]
  },
  {
   "cell_type": "code",
   "execution_count": 20,
   "id": "8bda5bf9-0bfa-43dd-b249-3d13dd7112d9",
   "metadata": {},
   "outputs": [],
   "source": [
    "response = client.chat.completions.create(model='gpt-4o-mini-2024-07-18',\n",
    "                                          messages=conversation)"
   ]
  },
  {
   "cell_type": "code",
   "execution_count": 21,
   "id": "cba0bc97-7c81-4090-a4fb-9672aa425d8d",
   "metadata": {},
   "outputs": [],
   "source": [
    "bot_answer = response.choices[0].message.content"
   ]
  },
  {
   "cell_type": "code",
   "execution_count": 23,
   "id": "dfb93c1b-c1b6-4a80-a019-c9a364306788",
   "metadata": {},
   "outputs": [],
   "source": [
    "conversation.append({'role': 'assistant', 'content': bot_answer})"
   ]
  },
  {
   "cell_type": "code",
   "execution_count": 24,
   "id": "9fcd3fee-de1b-4d3e-874c-8ccb8b452374",
   "metadata": {},
   "outputs": [
    {
     "name": "stdout",
     "output_type": "stream",
     "text": [
      "\n",
      "Batbot: {\n",
      "\"name\": \"Jessica\", \n",
      "\"reservation_code\": \"AAA003\"\n",
      "}\n",
      "\n"
     ]
    }
   ],
   "source": [
    "print('\\nBatbot: ' + bot_answer + '\\n')"
   ]
  },
  {
   "cell_type": "code",
   "execution_count": null,
   "id": "dcbb9640-e293-40ab-aec0-2a781de261f8",
   "metadata": {},
   "outputs": [],
   "source": []
  }
 ],
 "metadata": {
  "kernelspec": {
   "display_name": "Python 3 (ipykernel)",
   "language": "python",
   "name": "python3"
  },
  "language_info": {
   "codemirror_mode": {
    "name": "ipython",
    "version": 3
   },
   "file_extension": ".py",
   "mimetype": "text/x-python",
   "name": "python",
   "nbconvert_exporter": "python",
   "pygments_lexer": "ipython3",
   "version": "3.12.3"
  }
 },
 "nbformat": 4,
 "nbformat_minor": 5
}
