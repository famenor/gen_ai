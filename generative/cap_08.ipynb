{
 "cells": [
  {
   "cell_type": "code",
   "execution_count": 35,
   "id": "6582cb35-b8e3-4dd4-a90f-8e2bfe0d679d",
   "metadata": {},
   "outputs": [],
   "source": [
    "import os\n",
    "import json\n",
    "import re\n",
    "\n",
    "import pandas as pd\n",
    "import numpy as np\n",
    "\n",
    "import redis\n",
    "from redis.commands.search.field import VectorField, TextField\n",
    "from redis.commands.search.query import Query\n",
    "from redis.commands.search.indexDefinition import IndexDefinition, IndexType\n",
    "from redis.commands.search.field import TagField\n",
    "\n",
    "from openai import OpenAI"
   ]
  },
  {
   "cell_type": "code",
   "execution_count": 8,
   "id": "7ae9bbb0-ef44-4aa8-af73-0dc966e1c195",
   "metadata": {},
   "outputs": [],
   "source": [
    "os.environ['OPENAI_API_KEY'] = ''"
   ]
  },
  {
   "cell_type": "code",
   "execution_count": 9,
   "id": "af68e6f6-85ba-44d1-8450-2a9bd0147cbd",
   "metadata": {},
   "outputs": [],
   "source": [
    "client = OpenAI()"
   ]
  },
  {
   "cell_type": "code",
   "execution_count": 10,
   "id": "83a1fdf0-20fb-4703-9291-68964171cacd",
   "metadata": {},
   "outputs": [],
   "source": [
    "# Vectorize the query using OpenAI's text-embedding-ada-002 model\n",
    "def get_embedding(text):\n",
    "    # vectorize with OpenAI text-emebdding-ada-002\n",
    "    embedding = client.embeddings.create(\n",
    "        input=text,\n",
    "        model=\"text-embedding-ada-002\")\n",
    "\n",
    "    vector = embedding.data[0].embedding\n",
    "    \n",
    "    return vector"
   ]
  },
  {
   "cell_type": "markdown",
   "id": "9ffb0929",
   "metadata": {},
   "source": [
    "# JSON y esquema"
   ]
  },
  {
   "cell_type": "code",
   "execution_count": 3,
   "id": "dcbb9640-e293-40ab-aec0-2a781de261f8",
   "metadata": {},
   "outputs": [
    {
     "name": "stdout",
     "output_type": "stream",
     "text": [
      "16\n",
      "repatriacion\n"
     ]
    }
   ],
   "source": [
    "terminos = None\n",
    "\n",
    "with open('terminos.json') as f:\n",
    "    terminos = json.load(f)\n",
    "\n",
    "print(len(terminos))\n",
    "print(terminos['9']['tag'])"
   ]
  },
  {
   "cell_type": "code",
   "execution_count": 4,
   "id": "709d75bd",
   "metadata": {},
   "outputs": [],
   "source": [
    "REDIS_HOST = '127.0.0.1'\n",
    "REDIS_PORT = 6379\n",
    "REDIS_PASSWORD = ''\n",
    "\n",
    "schema = [\n",
    "    TagField(\"tag\"),\n",
    "    TextField(\"titulo\"), \n",
    "    TextField(\"description\"),\n",
    "    TextField(\"contenido\"),\n",
    "    VectorField(\"embedding\", \"HNSW\",\n",
    "                {\"TYPE\": \"FLOAT32\",\n",
    "                 \"DIM\": 1536,\n",
    "                 \"DISTANCE_METRIC\": \"COSINE\"}),\n",
    "   ]"
   ]
  },
  {
   "cell_type": "code",
   "execution_count": 5,
   "id": "fa03e5c9-c11d-43e3-b4a8-078230e92216",
   "metadata": {},
   "outputs": [],
   "source": [
    "conn = redis.Redis(host=REDIS_HOST, port=REDIS_PORT, password=REDIS_PASSWORD, encoding='utf-8', decode_responses=True)"
   ]
  },
  {
   "cell_type": "code",
   "execution_count": 6,
   "id": "3b9e52a1-80ea-401c-9622-6dfccd62adbe",
   "metadata": {},
   "outputs": [
    {
     "name": "stdout",
     "output_type": "stream",
     "text": [
      "0\n",
      "1\n",
      "2\n",
      "3\n",
      "4\n",
      "5\n",
      "6\n",
      "7\n",
      "8\n",
      "9\n",
      "10\n",
      "11\n",
      "12\n",
      "13\n",
      "14\n",
      "15\n"
     ]
    }
   ],
   "source": [
    "for i in range(0, len(terminos)):\n",
    "\n",
    "    termino = terminos[str(i)]\n",
    "\n",
    "    tag = termino['tag']\n",
    "    titulo = termino['titulo']\n",
    "    descripcion = termino['descripcion']\n",
    "\n",
    "    for j in range(0, len(termino['embedding'])):\n",
    "          \n",
    "        redis_hash = 'termino:' + str(i) + '_' + str(j)\n",
    "        vector = np.array(termino['embedding'][j]).astype(np.float32).tobytes()\n",
    "        \n",
    "        mapping = {'tag': tag, \n",
    "                   'titulo': titulo,\n",
    "                   'descripcion': descripcion,\n",
    "                   'contenido': termino['contenido'][j],\n",
    "                   'embedding': vector}\n",
    "        \n",
    "\n",
    "        respuesta = conn.hset(redis_hash, mapping=mapping)\n",
    "    print(i)    "
   ]
  },
  {
   "cell_type": "code",
   "execution_count": 7,
   "id": "65f1c8a5-62b3-45d5-ae39-116ef8d3b65d",
   "metadata": {},
   "outputs": [
    {
     "data": {
      "text/plain": [
       "'OK'"
      ]
     },
     "execution_count": 7,
     "metadata": {},
     "output_type": "execute_result"
    }
   ],
   "source": [
    "conn.ft('terminos').create_index(fields=schema, definition=IndexDefinition(prefix=[\"termino:\"], index_type=IndexType.HASH))"
   ]
  },
  {
   "cell_type": "markdown",
   "id": "3ade97ea-71f0-4196-918e-819e422be3bc",
   "metadata": {},
   "source": [
    "# Busqueda en REDIS"
   ]
  },
  {
   "cell_type": "code",
   "execution_count": 20,
   "id": "9f2bb60e-6892-45a1-9391-512e707a0c44",
   "metadata": {},
   "outputs": [],
   "source": [
    "def hybrid_search(query_vector, client_redis, top_k=3, hybrid_fields=\"*\"):\n",
    "    \n",
    "    base_query = f\"{hybrid_fields}=>[KNN {top_k} @embedding $vector AS vector_score]\"\n",
    "    query = Query(base_query).return_fields(\n",
    "        \"tag\",\n",
    "        \"titulo\",\n",
    "        \"descripcion\",\n",
    "        \"contenido\",\n",
    "        \"vector_score\").sort_by(\"vector_score\").dialect(2)\n",
    "\n",
    "    results = client_redis.ft(\"terminos\").search(query, query_params={\"vector\": query_vector})\n",
    "\n",
    "    return results"
   ]
  },
  {
   "cell_type": "code",
   "execution_count": 32,
   "id": "e1ba9d89-a968-401b-97e0-279669ef0b7d",
   "metadata": {},
   "outputs": [],
   "source": [
    "busquedas = ['deportes', 'cobertura por accidente', 'repatriacion sanitaria', \n",
    "             'repatriacion_funeraria', 'cancelacion de viaje', 'excepciones', \n",
    "             'transferencia de fondos', 'asesoria legal', 'montañismo', 'hospitalizacion']"
   ]
  },
  {
   "cell_type": "code",
   "execution_count": 28,
   "id": "49b19af0-b253-4d36-9d11-eaac96b23b10",
   "metadata": {},
   "outputs": [],
   "source": []
  },
  {
   "cell_type": "code",
   "execution_count": 33,
   "id": "f8697793-ddec-404a-9e43-80f47f7ba642",
   "metadata": {},
   "outputs": [
    {
     "name": "stdout",
     "output_type": "stream",
     "text": [
      "Procesando  deportes\n",
      "Procesando  cobertura por accidente\n",
      "Procesando  repatriacion sanitaria\n",
      "Procesando  repatriacion_funeraria\n",
      "Procesando  cancelacion de viaje\n",
      "Procesando  excepciones\n",
      "Procesando  transferencia de fondos\n",
      "Procesando  asesoria legal\n",
      "Procesando  montañismo\n",
      "Procesando  hospitalizacion\n"
     ]
    }
   ],
   "source": [
    "array_termino_buscado = []\n",
    "array_titulo_encontrado = []\n",
    "array_contenido_encontrado = []\n",
    "\n",
    "for busqueda in busquedas:\n",
    "\n",
    "    print('Procesando ', busqueda)\n",
    "\n",
    "    #VECTORIZAR\n",
    "    busqueda_vector = get_embedding(busqueda)\n",
    "    busqueda_bytes = np.array(busqueda_vector).astype(np.float32).tobytes()\n",
    "    \n",
    "    #BUSQUEDA EN REDIS\n",
    "    resultados = hybrid_search(busqueda_bytes, conn)\n",
    "    \n",
    "    if resultados:\n",
    "        #print(f\"Found {resultados.total} results:\")\n",
    "        for i, termino in enumerate(resultados.docs):\n",
    "            score = 1 - float(termino.vector_score)\n",
    "    \n",
    "            if score < 0.7:\n",
    "                continue\n",
    "                \n",
    "            #print('\\n', termino.contenido)\n",
    "            #print('')\n",
    "            #print(i, termino.titulo, ' --- ', termino.tag, round(score ,3))\n",
    "            #print(termino.descripcion) \n",
    "            #print('\\n***********************************************************\\n')\n",
    "    \n",
    "            array_termino_buscado.append(busqueda)\n",
    "            array_titulo_encontrado.append(termino.titulo)\n",
    "            #array_contenido_encontrado.append(termino.contenido)\n",
    "    else:\n",
    "        print(\"No results found\")"
   ]
  },
  {
   "cell_type": "code",
   "execution_count": 46,
   "id": "fc6f4014-2796-42d6-b35b-605b007b9227",
   "metadata": {},
   "outputs": [
    {
     "name": "stdout",
     "output_type": "stream",
     "text": [
      "(20, 2)\n"
     ]
    },
    {
     "data": {
      "text/html": [
       "<div>\n",
       "<style scoped>\n",
       "    .dataframe tbody tr th:only-of-type {\n",
       "        vertical-align: middle;\n",
       "    }\n",
       "\n",
       "    .dataframe tbody tr th {\n",
       "        vertical-align: top;\n",
       "    }\n",
       "\n",
       "    .dataframe thead th {\n",
       "        text-align: right;\n",
       "    }\n",
       "</style>\n",
       "<table border=\"1\" class=\"dataframe\">\n",
       "  <thead>\n",
       "    <tr style=\"text-align: right;\">\n",
       "      <th></th>\n",
       "      <th>termino</th>\n",
       "      <th>titulo</th>\n",
       "    </tr>\n",
       "  </thead>\n",
       "  <tbody>\n",
       "    <tr>\n",
       "      <th>0</th>\n",
       "      <td>deportes</td>\n",
       "      <td>Upgrade Deporte</td>\n",
       "    </tr>\n",
       "    <tr>\n",
       "      <th>1</th>\n",
       "      <td>deportes</td>\n",
       "      <td>Práctica recreativa de deportes</td>\n",
       "    </tr>\n",
       "    <tr>\n",
       "      <th>2</th>\n",
       "      <td>cobertura por accidente</td>\n",
       "      <td>Compensación por daños en el equipaje (tramos ...</td>\n",
       "    </tr>\n",
       "    <tr>\n",
       "      <th>3</th>\n",
       "      <td>cobertura por accidente</td>\n",
       "      <td>Asistencia Legal</td>\n",
       "    </tr>\n",
       "    <tr>\n",
       "      <th>4</th>\n",
       "      <td>cobertura por accidente</td>\n",
       "      <td>Regreso anticipado por siniestro en el domicilio</td>\n",
       "    </tr>\n",
       "    <tr>\n",
       "      <th>5</th>\n",
       "      <td>repatriacion sanitaria</td>\n",
       "      <td>Repatriaciones Sanitarias</td>\n",
       "    </tr>\n",
       "    <tr>\n",
       "      <th>6</th>\n",
       "      <td>repatriacion_funeraria</td>\n",
       "      <td>Repatriación o Traslado de restos</td>\n",
       "    </tr>\n",
       "    <tr>\n",
       "      <th>7</th>\n",
       "      <td>repatriacion_funeraria</td>\n",
       "      <td>Repatriaciones Sanitarias</td>\n",
       "    </tr>\n",
       "    <tr>\n",
       "      <th>8</th>\n",
       "      <td>cancelacion de viaje</td>\n",
       "      <td>Reintegro de gastos por imposibilidad de embarque</td>\n",
       "    </tr>\n",
       "    <tr>\n",
       "      <th>9</th>\n",
       "      <td>cancelacion de viaje</td>\n",
       "      <td>Asistencia Médica por enfermedad o accidente</td>\n",
       "    </tr>\n",
       "    <tr>\n",
       "      <th>10</th>\n",
       "      <td>cancelacion de viaje</td>\n",
       "      <td>Regreso anticipado por siniestro en el domicilio</td>\n",
       "    </tr>\n",
       "    <tr>\n",
       "      <th>11</th>\n",
       "      <td>excepciones</td>\n",
       "      <td>Práctica recreativa de deportes</td>\n",
       "    </tr>\n",
       "    <tr>\n",
       "      <th>12</th>\n",
       "      <td>excepciones</td>\n",
       "      <td>Upgrade Deporte</td>\n",
       "    </tr>\n",
       "    <tr>\n",
       "      <th>13</th>\n",
       "      <td>excepciones</td>\n",
       "      <td>Prótesis y ortesis</td>\n",
       "    </tr>\n",
       "    <tr>\n",
       "      <th>14</th>\n",
       "      <td>transferencia de fondos</td>\n",
       "      <td>Transferencia de fondos:</td>\n",
       "    </tr>\n",
       "    <tr>\n",
       "      <th>15</th>\n",
       "      <td>asesoria legal</td>\n",
       "      <td>Asistencia Legal</td>\n",
       "    </tr>\n",
       "    <tr>\n",
       "      <th>16</th>\n",
       "      <td>asesoria legal</td>\n",
       "      <td>Práctica recreativa de deportes</td>\n",
       "    </tr>\n",
       "    <tr>\n",
       "      <th>17</th>\n",
       "      <td>montañismo</td>\n",
       "      <td>Upgrade Deporte</td>\n",
       "    </tr>\n",
       "    <tr>\n",
       "      <th>18</th>\n",
       "      <td>montañismo</td>\n",
       "      <td>Línea de Consultas</td>\n",
       "    </tr>\n",
       "    <tr>\n",
       "      <th>19</th>\n",
       "      <td>hospitalizacion</td>\n",
       "      <td>Traslado de familiar</td>\n",
       "    </tr>\n",
       "  </tbody>\n",
       "</table>\n",
       "</div>"
      ],
      "text/plain": [
       "                    termino                                             titulo\n",
       "0                  deportes                                    Upgrade Deporte\n",
       "1                  deportes                    Práctica recreativa de deportes\n",
       "2   cobertura por accidente  Compensación por daños en el equipaje (tramos ...\n",
       "3   cobertura por accidente                                   Asistencia Legal\n",
       "4   cobertura por accidente   Regreso anticipado por siniestro en el domicilio\n",
       "5    repatriacion sanitaria                          Repatriaciones Sanitarias\n",
       "6    repatriacion_funeraria                  Repatriación o Traslado de restos\n",
       "7    repatriacion_funeraria                          Repatriaciones Sanitarias\n",
       "8      cancelacion de viaje  Reintegro de gastos por imposibilidad de embarque\n",
       "9      cancelacion de viaje       Asistencia Médica por enfermedad o accidente\n",
       "10     cancelacion de viaje   Regreso anticipado por siniestro en el domicilio\n",
       "11              excepciones                    Práctica recreativa de deportes\n",
       "12              excepciones                                    Upgrade Deporte\n",
       "13              excepciones                                 Prótesis y ortesis\n",
       "14  transferencia de fondos                           Transferencia de fondos:\n",
       "15           asesoria legal                                   Asistencia Legal\n",
       "16           asesoria legal                    Práctica recreativa de deportes\n",
       "17               montañismo                                    Upgrade Deporte\n",
       "18               montañismo                                 Línea de Consultas\n",
       "19          hospitalizacion                               Traslado de familiar"
      ]
     },
     "metadata": {},
     "output_type": "display_data"
    }
   ],
   "source": [
    "resultados_busquedas = pd.DataFrame({'termino': array_termino_buscado, 'titulo': array_titulo_encontrado})\n",
    "resultados_busquedas = resultados_busquedas.drop_duplicates()\n",
    "resultados_busquedas = resultados_busquedas.reset_index(drop=True)\n",
    "print(resultados_busquedas.shape)\n",
    "display(resultados_busquedas.head(20))"
   ]
  },
  {
   "cell_type": "code",
   "execution_count": 47,
   "id": "e7e0c23b-ed7c-46d7-8db1-2863f664c4aa",
   "metadata": {},
   "outputs": [],
   "source": [
    "output_json = resultados_busquedas.to_dict(orient='index')\n",
    "\n",
    "with open('resultados_busquedas.json', 'w') as f:\n",
    "    json.dump(output_json, f)"
   ]
  },
  {
   "cell_type": "markdown",
   "id": "f93ebf8f-0d94-4b53-9424-d39248f4142b",
   "metadata": {},
   "source": [
    "# Prompt"
   ]
  },
  {
   "cell_type": "code",
   "execution_count": 48,
   "id": "c417f632-a25b-4d32-adde-0c62eb49b309",
   "metadata": {},
   "outputs": [
    {
     "name": "stdout",
     "output_type": "stream",
     "text": [
      "20\n"
     ]
    }
   ],
   "source": [
    "inputs = None\n",
    "\n",
    "with open('resultados_busquedas.json') as f:\n",
    "    inputs = json.load(f)\n",
    "\n",
    "print(len(inputs))"
   ]
  },
  {
   "cell_type": "code",
   "execution_count": 51,
   "id": "231184a5-8a69-41a7-ada1-9db26c99c7d5",
   "metadata": {},
   "outputs": [],
   "source": [
    "prompt_general = ''\n",
    "for i in range(0, len(terminos)):\n",
    "    c_titulo = terminos[str(i)]['titulo']\n",
    "    c_descripcion = terminos[str(i)]['descripcion']\n",
    "\n",
    "    prompt_parcial = ''\n",
    "\n",
    "    for j in range(0, len(inputs)):\n",
    "        if inputs[str(j)]['titulo'] == c_titulo:\n",
    "            prompt_parcial = prompt_parcial + inputs[str(j)]['termino'] + ', '\n",
    "\n",
    "    prompt_general = prompt_general + '- Las busquedas de ' + prompt_parcial + 'tienen relacion con la clausula titulada '\n",
    "    prompt_general = prompt_general + c_titulo + ' que dice ' + c_descripcion + '\\n\\n'"
   ]
  },
  {
   "cell_type": "code",
   "execution_count": 72,
   "id": "e17d8390-4e11-4db7-a87a-e1ac6f7dd944",
   "metadata": {},
   "outputs": [],
   "source": [
    "content_system = f\"\"\"Eres un asistente IA que ayuda a las personas a encontrar informacion\n",
    "                    acerca de nuestra compañia de seguros y nada más. \n",
    "                    Una de tus tareas es proporcionar informacion de los terminos y condiciones en nuestros contratos.\n",
    "                    La relacion entre busquedas y clausulas es la siguiente:\n",
    "                    {prompt_general}\"\"\"\n",
    "\n",
    "conversation = [{'role': 'system', 'content': content_system}]"
   ]
  },
  {
   "cell_type": "code",
   "execution_count": 73,
   "id": "2752f6aa-a099-4386-bdee-5b5758401fce",
   "metadata": {},
   "outputs": [],
   "source": [
    "#user_input = 'Hola, ¿podrias darme información acerca de cobertura de deportes?'\n",
    "#user_input = 'Hola, ¿venden hamburguesas?'\n",
    "#user_input = 'Hola, ¿cuentan con servicios de asesoria legal?'\n",
    "#user_input = 'Hola, ¿podrias darme información acerca de los tipos de repatriaciones que manejan?'\n",
    "user_input = 'Hola, ¿podrias darme información acerca de la cobertura medica?'\n",
    "\n",
    "conversation.append({'role': 'user', 'content': user_input})"
   ]
  },
  {
   "cell_type": "code",
   "execution_count": 74,
   "id": "982eeb79-25aa-4b0c-995d-51fc220db778",
   "metadata": {},
   "outputs": [],
   "source": [
    "response = client.chat.completions.create(model='gpt-4o-mini-2024-07-18',\n",
    "                                          messages=conversation)"
   ]
  },
  {
   "cell_type": "code",
   "execution_count": 75,
   "id": "0005af3e-ab88-4cef-bb1d-fd4a8523e3dd",
   "metadata": {},
   "outputs": [
    {
     "name": "stdout",
     "output_type": "stream",
     "text": [
      "La cobertura médica está relacionada con la cláusula titulada \"Asistencia Médica por enfermedad o accidente\". Según esta cláusula, los servicios de asistencia médica ofrecidos por la prestadora comprenden exclusivamente el tratamiento de urgencia del cuadro agudo que impida la continuación del viaje. Esta asistencia incluye:\n",
      "\n",
      "a) Consultas médicas: La prestadora podrá coordinar visitas a domicilio siempre que cumplan con ciertas condiciones.\n",
      "\n",
      "b) Teleasistencia médica: Proporciona información general sobre salud y puede incluir la emisión de una receta médica y/o medicamentos, según las leyes locales y el diagnóstico.\n",
      "\n",
      "c) Atención por especialista: Si es necesario y autorizado por los equipos médicos de urgencia y la Central Operativa de la prestadora. \n",
      "\n",
      "Si necesitas información más específica o detalles adicionales, házmelo saber.\n"
     ]
    }
   ],
   "source": [
    "bot_answer = response.choices[0].message.content\n",
    "print(bot_answer)"
   ]
  }
 ],
 "metadata": {
  "kernelspec": {
   "display_name": "Python 3 (ipykernel)",
   "language": "python",
   "name": "python3"
  },
  "language_info": {
   "codemirror_mode": {
    "name": "ipython",
    "version": 3
   },
   "file_extension": ".py",
   "mimetype": "text/x-python",
   "name": "python",
   "nbconvert_exporter": "python",
   "pygments_lexer": "ipython3",
   "version": "3.12.3"
  }
 },
 "nbformat": 4,
 "nbformat_minor": 5
}
